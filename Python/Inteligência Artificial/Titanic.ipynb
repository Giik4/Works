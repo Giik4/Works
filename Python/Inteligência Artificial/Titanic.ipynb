{
  "cells": [
    {
      "cell_type": "markdown",
      "metadata": {
        "id": "30CBizYpnR3v"
      },
      "source": [
        "Gustavo Luiz Conceição Zago: 2268221\n",
        "\n",
        "Giovanni Henrique Munhoz de Lion Siervo: 2144255\n",
        "\n",
        "Dataset: https://www.kaggle.com/datasets/yasserh/titanic-dataset"
      ]
    },
    {
      "cell_type": "markdown",
      "metadata": {
        "id": "jIgRcxNqxWwE"
      },
      "source": [
        "##Informações gerais E importações"
      ]
    },
    {
      "cell_type": "code",
      "execution_count": null,
      "metadata": {
        "id": "sH_hCxZns0Q2"
      },
      "outputs": [],
      "source": [
        "import numpy as np\n",
        "import pandas as pd\n",
        "import matplotlib.pyplot as plt\n",
        "import seaborn as sns\n",
        "import statistics  as sts\n",
        "from sklearn.model_selection import train_test_split\n",
        "from sklearn.preprocessing import StandardScaler\n",
        "from sklearn.model_selection import GridSearchCV\n",
        "from sklearn.neighbors import KNeighborsClassifier\n",
        "from sklearn.tree import DecisionTreeClassifier\n",
        "from sklearn.metrics import confusion_matrix, ConfusionMatrixDisplay\n",
        "from sklearn import metrics\n",
        "from sklearn.model_selection import cross_val_score\n",
        "from sklearn.svm import SVC\n",
        "from sklearn.ensemble import RandomForestClassifier\n",
        "from sklearn.metrics import accuracy_score\n",
        "from sklearn.metrics import confusion_matrix\n",
        "from sklearn.metrics import classification_report"
      ]
    },
    {
      "cell_type": "code",
      "execution_count": null,
      "metadata": {
        "colab": {
          "base_uri": "https://localhost:8080/",
          "height": 676
        },
        "id": "yCKCKuWZs2vo",
        "outputId": "0abad40c-58e2-49eb-8130-03dc882593ee"
      },
      "outputs": [
        {
          "output_type": "execute_result",
          "data": {
            "text/plain": [
              "     PassengerId  Survived  Pclass  \\\n",
              "0              1         0       3   \n",
              "1              2         1       1   \n",
              "2              3         1       3   \n",
              "3              4         1       1   \n",
              "4              5         0       3   \n",
              "..           ...       ...     ...   \n",
              "886          887         0       2   \n",
              "887          888         1       1   \n",
              "888          889         0       3   \n",
              "889          890         1       1   \n",
              "890          891         0       3   \n",
              "\n",
              "                                                  Name     Sex   Age  SibSp  \\\n",
              "0                              Braund, Mr. Owen Harris    male  22.0      1   \n",
              "1    Cumings, Mrs. John Bradley (Florence Briggs Th...  female  38.0      1   \n",
              "2                               Heikkinen, Miss. Laina  female  26.0      0   \n",
              "3         Futrelle, Mrs. Jacques Heath (Lily May Peel)  female  35.0      1   \n",
              "4                             Allen, Mr. William Henry    male  35.0      0   \n",
              "..                                                 ...     ...   ...    ...   \n",
              "886                              Montvila, Rev. Juozas    male  27.0      0   \n",
              "887                       Graham, Miss. Margaret Edith  female  19.0      0   \n",
              "888           Johnston, Miss. Catherine Helen \"Carrie\"  female   NaN      1   \n",
              "889                              Behr, Mr. Karl Howell    male  26.0      0   \n",
              "890                                Dooley, Mr. Patrick    male  32.0      0   \n",
              "\n",
              "     Parch            Ticket     Fare Cabin Embarked  \n",
              "0        0         A/5 21171   7.2500   NaN        S  \n",
              "1        0          PC 17599  71.2833   C85        C  \n",
              "2        0  STON/O2. 3101282   7.9250   NaN        S  \n",
              "3        0            113803  53.1000  C123        S  \n",
              "4        0            373450   8.0500   NaN        S  \n",
              "..     ...               ...      ...   ...      ...  \n",
              "886      0            211536  13.0000   NaN        S  \n",
              "887      0            112053  30.0000   B42        S  \n",
              "888      2        W./C. 6607  23.4500   NaN        S  \n",
              "889      0            111369  30.0000  C148        C  \n",
              "890      0            370376   7.7500   NaN        Q  \n",
              "\n",
              "[891 rows x 12 columns]"
            ],
            "text/html": [
              "\n",
              "  <div id=\"df-e389a0f5-1692-4ee4-8127-7628c5c18c17\">\n",
              "    <div class=\"colab-df-container\">\n",
              "      <div>\n",
              "<style scoped>\n",
              "    .dataframe tbody tr th:only-of-type {\n",
              "        vertical-align: middle;\n",
              "    }\n",
              "\n",
              "    .dataframe tbody tr th {\n",
              "        vertical-align: top;\n",
              "    }\n",
              "\n",
              "    .dataframe thead th {\n",
              "        text-align: right;\n",
              "    }\n",
              "</style>\n",
              "<table border=\"1\" class=\"dataframe\">\n",
              "  <thead>\n",
              "    <tr style=\"text-align: right;\">\n",
              "      <th></th>\n",
              "      <th>PassengerId</th>\n",
              "      <th>Survived</th>\n",
              "      <th>Pclass</th>\n",
              "      <th>Name</th>\n",
              "      <th>Sex</th>\n",
              "      <th>Age</th>\n",
              "      <th>SibSp</th>\n",
              "      <th>Parch</th>\n",
              "      <th>Ticket</th>\n",
              "      <th>Fare</th>\n",
              "      <th>Cabin</th>\n",
              "      <th>Embarked</th>\n",
              "    </tr>\n",
              "  </thead>\n",
              "  <tbody>\n",
              "    <tr>\n",
              "      <th>0</th>\n",
              "      <td>1</td>\n",
              "      <td>0</td>\n",
              "      <td>3</td>\n",
              "      <td>Braund, Mr. Owen Harris</td>\n",
              "      <td>male</td>\n",
              "      <td>22.0</td>\n",
              "      <td>1</td>\n",
              "      <td>0</td>\n",
              "      <td>A/5 21171</td>\n",
              "      <td>7.2500</td>\n",
              "      <td>NaN</td>\n",
              "      <td>S</td>\n",
              "    </tr>\n",
              "    <tr>\n",
              "      <th>1</th>\n",
              "      <td>2</td>\n",
              "      <td>1</td>\n",
              "      <td>1</td>\n",
              "      <td>Cumings, Mrs. John Bradley (Florence Briggs Th...</td>\n",
              "      <td>female</td>\n",
              "      <td>38.0</td>\n",
              "      <td>1</td>\n",
              "      <td>0</td>\n",
              "      <td>PC 17599</td>\n",
              "      <td>71.2833</td>\n",
              "      <td>C85</td>\n",
              "      <td>C</td>\n",
              "    </tr>\n",
              "    <tr>\n",
              "      <th>2</th>\n",
              "      <td>3</td>\n",
              "      <td>1</td>\n",
              "      <td>3</td>\n",
              "      <td>Heikkinen, Miss. Laina</td>\n",
              "      <td>female</td>\n",
              "      <td>26.0</td>\n",
              "      <td>0</td>\n",
              "      <td>0</td>\n",
              "      <td>STON/O2. 3101282</td>\n",
              "      <td>7.9250</td>\n",
              "      <td>NaN</td>\n",
              "      <td>S</td>\n",
              "    </tr>\n",
              "    <tr>\n",
              "      <th>3</th>\n",
              "      <td>4</td>\n",
              "      <td>1</td>\n",
              "      <td>1</td>\n",
              "      <td>Futrelle, Mrs. Jacques Heath (Lily May Peel)</td>\n",
              "      <td>female</td>\n",
              "      <td>35.0</td>\n",
              "      <td>1</td>\n",
              "      <td>0</td>\n",
              "      <td>113803</td>\n",
              "      <td>53.1000</td>\n",
              "      <td>C123</td>\n",
              "      <td>S</td>\n",
              "    </tr>\n",
              "    <tr>\n",
              "      <th>4</th>\n",
              "      <td>5</td>\n",
              "      <td>0</td>\n",
              "      <td>3</td>\n",
              "      <td>Allen, Mr. William Henry</td>\n",
              "      <td>male</td>\n",
              "      <td>35.0</td>\n",
              "      <td>0</td>\n",
              "      <td>0</td>\n",
              "      <td>373450</td>\n",
              "      <td>8.0500</td>\n",
              "      <td>NaN</td>\n",
              "      <td>S</td>\n",
              "    </tr>\n",
              "    <tr>\n",
              "      <th>...</th>\n",
              "      <td>...</td>\n",
              "      <td>...</td>\n",
              "      <td>...</td>\n",
              "      <td>...</td>\n",
              "      <td>...</td>\n",
              "      <td>...</td>\n",
              "      <td>...</td>\n",
              "      <td>...</td>\n",
              "      <td>...</td>\n",
              "      <td>...</td>\n",
              "      <td>...</td>\n",
              "      <td>...</td>\n",
              "    </tr>\n",
              "    <tr>\n",
              "      <th>886</th>\n",
              "      <td>887</td>\n",
              "      <td>0</td>\n",
              "      <td>2</td>\n",
              "      <td>Montvila, Rev. Juozas</td>\n",
              "      <td>male</td>\n",
              "      <td>27.0</td>\n",
              "      <td>0</td>\n",
              "      <td>0</td>\n",
              "      <td>211536</td>\n",
              "      <td>13.0000</td>\n",
              "      <td>NaN</td>\n",
              "      <td>S</td>\n",
              "    </tr>\n",
              "    <tr>\n",
              "      <th>887</th>\n",
              "      <td>888</td>\n",
              "      <td>1</td>\n",
              "      <td>1</td>\n",
              "      <td>Graham, Miss. Margaret Edith</td>\n",
              "      <td>female</td>\n",
              "      <td>19.0</td>\n",
              "      <td>0</td>\n",
              "      <td>0</td>\n",
              "      <td>112053</td>\n",
              "      <td>30.0000</td>\n",
              "      <td>B42</td>\n",
              "      <td>S</td>\n",
              "    </tr>\n",
              "    <tr>\n",
              "      <th>888</th>\n",
              "      <td>889</td>\n",
              "      <td>0</td>\n",
              "      <td>3</td>\n",
              "      <td>Johnston, Miss. Catherine Helen \"Carrie\"</td>\n",
              "      <td>female</td>\n",
              "      <td>NaN</td>\n",
              "      <td>1</td>\n",
              "      <td>2</td>\n",
              "      <td>W./C. 6607</td>\n",
              "      <td>23.4500</td>\n",
              "      <td>NaN</td>\n",
              "      <td>S</td>\n",
              "    </tr>\n",
              "    <tr>\n",
              "      <th>889</th>\n",
              "      <td>890</td>\n",
              "      <td>1</td>\n",
              "      <td>1</td>\n",
              "      <td>Behr, Mr. Karl Howell</td>\n",
              "      <td>male</td>\n",
              "      <td>26.0</td>\n",
              "      <td>0</td>\n",
              "      <td>0</td>\n",
              "      <td>111369</td>\n",
              "      <td>30.0000</td>\n",
              "      <td>C148</td>\n",
              "      <td>C</td>\n",
              "    </tr>\n",
              "    <tr>\n",
              "      <th>890</th>\n",
              "      <td>891</td>\n",
              "      <td>0</td>\n",
              "      <td>3</td>\n",
              "      <td>Dooley, Mr. Patrick</td>\n",
              "      <td>male</td>\n",
              "      <td>32.0</td>\n",
              "      <td>0</td>\n",
              "      <td>0</td>\n",
              "      <td>370376</td>\n",
              "      <td>7.7500</td>\n",
              "      <td>NaN</td>\n",
              "      <td>Q</td>\n",
              "    </tr>\n",
              "  </tbody>\n",
              "</table>\n",
              "<p>891 rows × 12 columns</p>\n",
              "</div>\n",
              "      <button class=\"colab-df-convert\" onclick=\"convertToInteractive('df-e389a0f5-1692-4ee4-8127-7628c5c18c17')\"\n",
              "              title=\"Convert this dataframe to an interactive table.\"\n",
              "              style=\"display:none;\">\n",
              "        \n",
              "  <svg xmlns=\"http://www.w3.org/2000/svg\" height=\"24px\"viewBox=\"0 0 24 24\"\n",
              "       width=\"24px\">\n",
              "    <path d=\"M0 0h24v24H0V0z\" fill=\"none\"/>\n",
              "    <path d=\"M18.56 5.44l.94 2.06.94-2.06 2.06-.94-2.06-.94-.94-2.06-.94 2.06-2.06.94zm-11 1L8.5 8.5l.94-2.06 2.06-.94-2.06-.94L8.5 2.5l-.94 2.06-2.06.94zm10 10l.94 2.06.94-2.06 2.06-.94-2.06-.94-.94-2.06-.94 2.06-2.06.94z\"/><path d=\"M17.41 7.96l-1.37-1.37c-.4-.4-.92-.59-1.43-.59-.52 0-1.04.2-1.43.59L10.3 9.45l-7.72 7.72c-.78.78-.78 2.05 0 2.83L4 21.41c.39.39.9.59 1.41.59.51 0 1.02-.2 1.41-.59l7.78-7.78 2.81-2.81c.8-.78.8-2.07 0-2.86zM5.41 20L4 18.59l7.72-7.72 1.47 1.35L5.41 20z\"/>\n",
              "  </svg>\n",
              "      </button>\n",
              "      \n",
              "  <style>\n",
              "    .colab-df-container {\n",
              "      display:flex;\n",
              "      flex-wrap:wrap;\n",
              "      gap: 12px;\n",
              "    }\n",
              "\n",
              "    .colab-df-convert {\n",
              "      background-color: #E8F0FE;\n",
              "      border: none;\n",
              "      border-radius: 50%;\n",
              "      cursor: pointer;\n",
              "      display: none;\n",
              "      fill: #1967D2;\n",
              "      height: 32px;\n",
              "      padding: 0 0 0 0;\n",
              "      width: 32px;\n",
              "    }\n",
              "\n",
              "    .colab-df-convert:hover {\n",
              "      background-color: #E2EBFA;\n",
              "      box-shadow: 0px 1px 2px rgba(60, 64, 67, 0.3), 0px 1px 3px 1px rgba(60, 64, 67, 0.15);\n",
              "      fill: #174EA6;\n",
              "    }\n",
              "\n",
              "    [theme=dark] .colab-df-convert {\n",
              "      background-color: #3B4455;\n",
              "      fill: #D2E3FC;\n",
              "    }\n",
              "\n",
              "    [theme=dark] .colab-df-convert:hover {\n",
              "      background-color: #434B5C;\n",
              "      box-shadow: 0px 1px 3px 1px rgba(0, 0, 0, 0.15);\n",
              "      filter: drop-shadow(0px 1px 2px rgba(0, 0, 0, 0.3));\n",
              "      fill: #FFFFFF;\n",
              "    }\n",
              "  </style>\n",
              "\n",
              "      <script>\n",
              "        const buttonEl =\n",
              "          document.querySelector('#df-e389a0f5-1692-4ee4-8127-7628c5c18c17 button.colab-df-convert');\n",
              "        buttonEl.style.display =\n",
              "          google.colab.kernel.accessAllowed ? 'block' : 'none';\n",
              "\n",
              "        async function convertToInteractive(key) {\n",
              "          const element = document.querySelector('#df-e389a0f5-1692-4ee4-8127-7628c5c18c17');\n",
              "          const dataTable =\n",
              "            await google.colab.kernel.invokeFunction('convertToInteractive',\n",
              "                                                     [key], {});\n",
              "          if (!dataTable) return;\n",
              "\n",
              "          const docLinkHtml = 'Like what you see? Visit the ' +\n",
              "            '<a target=\"_blank\" href=https://colab.research.google.com/notebooks/data_table.ipynb>data table notebook</a>'\n",
              "            + ' to learn more about interactive tables.';\n",
              "          element.innerHTML = '';\n",
              "          dataTable['output_type'] = 'display_data';\n",
              "          await google.colab.output.renderOutput(dataTable, element);\n",
              "          const docLink = document.createElement('div');\n",
              "          docLink.innerHTML = docLinkHtml;\n",
              "          element.appendChild(docLink);\n",
              "        }\n",
              "      </script>\n",
              "    </div>\n",
              "  </div>\n",
              "  "
            ]
          },
          "metadata": {},
          "execution_count": 2
        }
      ],
      "source": [
        "df=pd.read_csv('Titanic-Dataset.csv')\n",
        "df"
      ]
    },
    {
      "cell_type": "code",
      "execution_count": null,
      "metadata": {
        "colab": {
          "base_uri": "https://localhost:8080/"
        },
        "id": "w9YztiBps2tx",
        "outputId": "52a0b476-84db-4b4d-c0a1-bc625a63e31f"
      },
      "outputs": [
        {
          "output_type": "stream",
          "name": "stdout",
          "text": [
            "<class 'pandas.core.frame.DataFrame'>\n",
            "RangeIndex: 891 entries, 0 to 890\n",
            "Data columns (total 12 columns):\n",
            " #   Column       Non-Null Count  Dtype  \n",
            "---  ------       --------------  -----  \n",
            " 0   PassengerId  891 non-null    int64  \n",
            " 1   Survived     891 non-null    int64  \n",
            " 2   Pclass       891 non-null    int64  \n",
            " 3   Name         891 non-null    object \n",
            " 4   Sex          891 non-null    object \n",
            " 5   Age          714 non-null    float64\n",
            " 6   SibSp        891 non-null    int64  \n",
            " 7   Parch        891 non-null    int64  \n",
            " 8   Ticket       891 non-null    object \n",
            " 9   Fare         891 non-null    float64\n",
            " 10  Cabin        204 non-null    object \n",
            " 11  Embarked     889 non-null    object \n",
            "dtypes: float64(2), int64(5), object(5)\n",
            "memory usage: 83.7+ KB\n"
          ]
        }
      ],
      "source": [
        "df.info()"
      ]
    },
    {
      "cell_type": "markdown",
      "metadata": {
        "id": "eJRr5nu_tWh7"
      },
      "source": [
        "##Resumo base de dados:"
      ]
    },
    {
      "cell_type": "code",
      "execution_count": null,
      "metadata": {
        "colab": {
          "base_uri": "https://localhost:8080/"
        },
        "id": "cuUPEuvCs2rD",
        "outputId": "0ddc305e-f954-45c6-dc9e-0ede54f134bc"
      },
      "outputs": [
        {
          "output_type": "stream",
          "name": "stdout",
          "text": [
            "Linhas:  891\n",
            "Colunas:  12\n",
            "\n",
            "Atributos : \n",
            " ['PassengerId', 'Survived', 'Pclass', 'Name', 'Sex', 'Age', 'SibSp', 'Parch', 'Ticket', 'Fare', 'Cabin', 'Embarked']\n",
            "\n",
            "Valores faltantes :   866\n",
            "\n",
            "Valores únicos :  \n",
            " PassengerId    891\n",
            "Survived         2\n",
            "Pclass           3\n",
            "Name           891\n",
            "Sex              2\n",
            "Age             88\n",
            "SibSp            7\n",
            "Parch            7\n",
            "Ticket         681\n",
            "Fare           248\n",
            "Cabin          147\n",
            "Embarked         3\n",
            "dtype: int64\n"
          ]
        }
      ],
      "source": [
        "print (\"Linhas: \" , df.shape[0])\n",
        "print (\"Colunas: \" , df.shape[1])\n",
        "print (\"\\nAtributos : \\n\" , df.columns.tolist())\n",
        "print (\"\\nValores faltantes :  \", df.isnull().sum().values.sum())\n",
        "print (\"\\nValores únicos :  \\n\",df.nunique())"
      ]
    },
    {
      "cell_type": "markdown",
      "metadata": {
        "id": "5MzZcOOYtdsh"
      },
      "source": [
        "##Pré Processamento:"
      ]
    },
    {
      "cell_type": "code",
      "execution_count": null,
      "metadata": {
        "id": "-CWV7IDUs2oi"
      },
      "outputs": [],
      "source": [
        "# Removendo colunas PassagerId, Name\n",
        "df=df.drop(columns='PassengerId',axis=1)\n",
        "df=df.drop(columns='Name',axis=1)"
      ]
    },
    {
      "cell_type": "code",
      "execution_count": null,
      "metadata": {
        "colab": {
          "base_uri": "https://localhost:8080/"
        },
        "id": "T32BkXXZs2mX",
        "outputId": "7348104d-42ff-450c-b9a6-e3b9e5b06b9a"
      },
      "outputs": [
        {
          "output_type": "execute_result",
          "data": {
            "text/plain": [
              "Survived      0\n",
              "Pclass        0\n",
              "Sex           0\n",
              "Age         177\n",
              "SibSp         0\n",
              "Parch         0\n",
              "Ticket        0\n",
              "Fare          0\n",
              "Cabin       687\n",
              "Embarked      2\n",
              "dtype: int64"
            ]
          },
          "metadata": {},
          "execution_count": 6
        }
      ],
      "source": [
        "# Verifica a quantidade de dados faltrantes\n",
        "df.isna().sum()"
      ]
    },
    {
      "cell_type": "code",
      "execution_count": null,
      "metadata": {
        "id": "ifc27pGAs2kA"
      },
      "outputs": [],
      "source": [
        "#Substituir NaN em Age\n",
        "from sklearn.impute import SimpleImputer\n",
        "imputer = SimpleImputer(missing_values=np.NaN, strategy='median')\n",
        "\n",
        "df['Age'] = imputer.fit_transform(df['Age'].values.reshape(-1,1))[:,0]"
      ]
    },
    {
      "cell_type": "code",
      "execution_count": null,
      "metadata": {
        "colab": {
          "base_uri": "https://localhost:8080/"
        },
        "id": "8PrBgaEas2f7",
        "outputId": "b886f1aa-e13a-4179-eb26-b5ca3a46987e"
      },
      "outputs": [
        {
          "output_type": "execute_result",
          "data": {
            "text/plain": [
              "Survived      0\n",
              "Pclass        0\n",
              "Sex           0\n",
              "Age           0\n",
              "SibSp         0\n",
              "Parch         0\n",
              "Ticket        0\n",
              "Fare          0\n",
              "Cabin       687\n",
              "Embarked      2\n",
              "dtype: int64"
            ]
          },
          "metadata": {},
          "execution_count": 8
        }
      ],
      "source": [
        "df.isna().sum()"
      ]
    },
    {
      "cell_type": "code",
      "execution_count": null,
      "metadata": {
        "id": "ZAP2ZTYks2cI"
      },
      "outputs": [],
      "source": [
        "# Transformando coluna Ambarked, Cabin e Ticket em novas colunas diferentes\n",
        "df = pd.get_dummies(data=df, columns=['Embarked'])\n",
        "df = pd.get_dummies(data=df, columns=['Ticket'])\n",
        "df2 = df # realização do algoritmo sem Cabin\n",
        "df = pd.get_dummies(data=df, columns=['Cabin'])\n"
      ]
    },
    {
      "cell_type": "code",
      "execution_count": null,
      "metadata": {
        "colab": {
          "base_uri": "https://localhost:8080/"
        },
        "id": "nRtd2jXms2aE",
        "outputId": "9e1f7ba2-deed-4ca1-d130-eb8bff4e6503"
      },
      "outputs": [
        {
          "output_type": "execute_result",
          "data": {
            "text/plain": [
              "Survived     0\n",
              "Pclass       0\n",
              "Sex          0\n",
              "Age          0\n",
              "SibSp        0\n",
              "            ..\n",
              "Cabin_F33    0\n",
              "Cabin_F38    0\n",
              "Cabin_F4     0\n",
              "Cabin_G6     0\n",
              "Cabin_T      0\n",
              "Length: 838, dtype: int64"
            ]
          },
          "metadata": {},
          "execution_count": 10
        }
      ],
      "source": [
        "df.isna().sum()"
      ]
    },
    {
      "cell_type": "code",
      "execution_count": null,
      "metadata": {
        "id": "at31n5uys2Xj"
      },
      "outputs": [],
      "source": [
        "#Transformando valores categoricos da coluna Sex em numéricos\n",
        "from sklearn.preprocessing import LabelEncoder\n",
        "\n",
        "labelencoder = LabelEncoder()\n",
        "df[[\"Sex\"]] = \\\n",
        "df[[\"Sex\"]].apply(labelencoder.fit_transform)"
      ]
    },
    {
      "cell_type": "markdown",
      "metadata": {
        "id": "587gIIS7ffoF"
      },
      "source": [
        "##Normalização\n"
      ]
    },
    {
      "cell_type": "code",
      "execution_count": null,
      "metadata": {
        "id": "Yb4-kVm3s2TA"
      },
      "outputs": [],
      "source": [
        "#Normalizando colunas Age e Fare através do StandardScaler\n",
        "std=StandardScaler()\n",
        "columns = ['Age', 'Fare']\n",
        "scaled = std.fit_transform(df[['Age', 'Fare']])\n",
        "scaled = pd.DataFrame(scaled,columns=columns)\n",
        "df=df.drop(columns=columns,axis=1)"
      ]
    },
    {
      "cell_type": "code",
      "execution_count": null,
      "metadata": {
        "colab": {
          "base_uri": "https://localhost:8080/",
          "height": 505
        },
        "id": "djaVJ5vts2Pf",
        "outputId": "72bda07f-514c-4cc1-8d86-83cc496dec9c"
      },
      "outputs": [
        {
          "output_type": "execute_result",
          "data": {
            "text/plain": [
              "     Survived  Pclass  Sex  SibSp  Parch  Embarked_C  Embarked_Q  Embarked_S  \\\n",
              "0           0       3    1      1      0           0           0           1   \n",
              "1           1       1    0      1      0           1           0           0   \n",
              "2           1       3    0      0      0           0           0           1   \n",
              "3           1       1    0      1      0           0           0           1   \n",
              "4           0       3    1      0      0           0           0           1   \n",
              "..        ...     ...  ...    ...    ...         ...         ...         ...   \n",
              "886         0       2    1      0      0           0           0           1   \n",
              "887         1       1    0      0      0           0           0           1   \n",
              "888         0       3    0      1      2           0           0           1   \n",
              "889         1       1    1      0      0           1           0           0   \n",
              "890         0       3    1      0      0           0           1           0   \n",
              "\n",
              "     Ticket_110152  Ticket_110413  ...  Cabin_F G63  Cabin_F G73  Cabin_F2  \\\n",
              "0                0              0  ...            0            0         0   \n",
              "1                0              0  ...            0            0         0   \n",
              "2                0              0  ...            0            0         0   \n",
              "3                0              0  ...            0            0         0   \n",
              "4                0              0  ...            0            0         0   \n",
              "..             ...            ...  ...          ...          ...       ...   \n",
              "886              0              0  ...            0            0         0   \n",
              "887              0              0  ...            0            0         0   \n",
              "888              0              0  ...            0            0         0   \n",
              "889              0              0  ...            0            0         0   \n",
              "890              0              0  ...            0            0         0   \n",
              "\n",
              "     Cabin_F33  Cabin_F38  Cabin_F4  Cabin_G6  Cabin_T       Age      Fare  \n",
              "0            0          0         0         0        0 -0.565736 -0.502445  \n",
              "1            0          0         0         0        0  0.663861  0.786845  \n",
              "2            0          0         0         0        0 -0.258337 -0.488854  \n",
              "3            0          0         0         0        0  0.433312  0.420730  \n",
              "4            0          0         0         0        0  0.433312 -0.486337  \n",
              "..         ...        ...       ...       ...      ...       ...       ...  \n",
              "886          0          0         0         0        0 -0.181487 -0.386671  \n",
              "887          0          0         0         0        0 -0.796286 -0.044381  \n",
              "888          0          0         0         0        0 -0.104637 -0.176263  \n",
              "889          0          0         0         0        0 -0.258337 -0.044381  \n",
              "890          0          0         0         0        0  0.202762 -0.492378  \n",
              "\n",
              "[891 rows x 838 columns]"
            ],
            "text/html": [
              "\n",
              "  <div id=\"df-c536904d-8f48-4dd8-b18a-986097ac0ce9\">\n",
              "    <div class=\"colab-df-container\">\n",
              "      <div>\n",
              "<style scoped>\n",
              "    .dataframe tbody tr th:only-of-type {\n",
              "        vertical-align: middle;\n",
              "    }\n",
              "\n",
              "    .dataframe tbody tr th {\n",
              "        vertical-align: top;\n",
              "    }\n",
              "\n",
              "    .dataframe thead th {\n",
              "        text-align: right;\n",
              "    }\n",
              "</style>\n",
              "<table border=\"1\" class=\"dataframe\">\n",
              "  <thead>\n",
              "    <tr style=\"text-align: right;\">\n",
              "      <th></th>\n",
              "      <th>Survived</th>\n",
              "      <th>Pclass</th>\n",
              "      <th>Sex</th>\n",
              "      <th>SibSp</th>\n",
              "      <th>Parch</th>\n",
              "      <th>Embarked_C</th>\n",
              "      <th>Embarked_Q</th>\n",
              "      <th>Embarked_S</th>\n",
              "      <th>Ticket_110152</th>\n",
              "      <th>Ticket_110413</th>\n",
              "      <th>...</th>\n",
              "      <th>Cabin_F G63</th>\n",
              "      <th>Cabin_F G73</th>\n",
              "      <th>Cabin_F2</th>\n",
              "      <th>Cabin_F33</th>\n",
              "      <th>Cabin_F38</th>\n",
              "      <th>Cabin_F4</th>\n",
              "      <th>Cabin_G6</th>\n",
              "      <th>Cabin_T</th>\n",
              "      <th>Age</th>\n",
              "      <th>Fare</th>\n",
              "    </tr>\n",
              "  </thead>\n",
              "  <tbody>\n",
              "    <tr>\n",
              "      <th>0</th>\n",
              "      <td>0</td>\n",
              "      <td>3</td>\n",
              "      <td>1</td>\n",
              "      <td>1</td>\n",
              "      <td>0</td>\n",
              "      <td>0</td>\n",
              "      <td>0</td>\n",
              "      <td>1</td>\n",
              "      <td>0</td>\n",
              "      <td>0</td>\n",
              "      <td>...</td>\n",
              "      <td>0</td>\n",
              "      <td>0</td>\n",
              "      <td>0</td>\n",
              "      <td>0</td>\n",
              "      <td>0</td>\n",
              "      <td>0</td>\n",
              "      <td>0</td>\n",
              "      <td>0</td>\n",
              "      <td>-0.565736</td>\n",
              "      <td>-0.502445</td>\n",
              "    </tr>\n",
              "    <tr>\n",
              "      <th>1</th>\n",
              "      <td>1</td>\n",
              "      <td>1</td>\n",
              "      <td>0</td>\n",
              "      <td>1</td>\n",
              "      <td>0</td>\n",
              "      <td>1</td>\n",
              "      <td>0</td>\n",
              "      <td>0</td>\n",
              "      <td>0</td>\n",
              "      <td>0</td>\n",
              "      <td>...</td>\n",
              "      <td>0</td>\n",
              "      <td>0</td>\n",
              "      <td>0</td>\n",
              "      <td>0</td>\n",
              "      <td>0</td>\n",
              "      <td>0</td>\n",
              "      <td>0</td>\n",
              "      <td>0</td>\n",
              "      <td>0.663861</td>\n",
              "      <td>0.786845</td>\n",
              "    </tr>\n",
              "    <tr>\n",
              "      <th>2</th>\n",
              "      <td>1</td>\n",
              "      <td>3</td>\n",
              "      <td>0</td>\n",
              "      <td>0</td>\n",
              "      <td>0</td>\n",
              "      <td>0</td>\n",
              "      <td>0</td>\n",
              "      <td>1</td>\n",
              "      <td>0</td>\n",
              "      <td>0</td>\n",
              "      <td>...</td>\n",
              "      <td>0</td>\n",
              "      <td>0</td>\n",
              "      <td>0</td>\n",
              "      <td>0</td>\n",
              "      <td>0</td>\n",
              "      <td>0</td>\n",
              "      <td>0</td>\n",
              "      <td>0</td>\n",
              "      <td>-0.258337</td>\n",
              "      <td>-0.488854</td>\n",
              "    </tr>\n",
              "    <tr>\n",
              "      <th>3</th>\n",
              "      <td>1</td>\n",
              "      <td>1</td>\n",
              "      <td>0</td>\n",
              "      <td>1</td>\n",
              "      <td>0</td>\n",
              "      <td>0</td>\n",
              "      <td>0</td>\n",
              "      <td>1</td>\n",
              "      <td>0</td>\n",
              "      <td>0</td>\n",
              "      <td>...</td>\n",
              "      <td>0</td>\n",
              "      <td>0</td>\n",
              "      <td>0</td>\n",
              "      <td>0</td>\n",
              "      <td>0</td>\n",
              "      <td>0</td>\n",
              "      <td>0</td>\n",
              "      <td>0</td>\n",
              "      <td>0.433312</td>\n",
              "      <td>0.420730</td>\n",
              "    </tr>\n",
              "    <tr>\n",
              "      <th>4</th>\n",
              "      <td>0</td>\n",
              "      <td>3</td>\n",
              "      <td>1</td>\n",
              "      <td>0</td>\n",
              "      <td>0</td>\n",
              "      <td>0</td>\n",
              "      <td>0</td>\n",
              "      <td>1</td>\n",
              "      <td>0</td>\n",
              "      <td>0</td>\n",
              "      <td>...</td>\n",
              "      <td>0</td>\n",
              "      <td>0</td>\n",
              "      <td>0</td>\n",
              "      <td>0</td>\n",
              "      <td>0</td>\n",
              "      <td>0</td>\n",
              "      <td>0</td>\n",
              "      <td>0</td>\n",
              "      <td>0.433312</td>\n",
              "      <td>-0.486337</td>\n",
              "    </tr>\n",
              "    <tr>\n",
              "      <th>...</th>\n",
              "      <td>...</td>\n",
              "      <td>...</td>\n",
              "      <td>...</td>\n",
              "      <td>...</td>\n",
              "      <td>...</td>\n",
              "      <td>...</td>\n",
              "      <td>...</td>\n",
              "      <td>...</td>\n",
              "      <td>...</td>\n",
              "      <td>...</td>\n",
              "      <td>...</td>\n",
              "      <td>...</td>\n",
              "      <td>...</td>\n",
              "      <td>...</td>\n",
              "      <td>...</td>\n",
              "      <td>...</td>\n",
              "      <td>...</td>\n",
              "      <td>...</td>\n",
              "      <td>...</td>\n",
              "      <td>...</td>\n",
              "      <td>...</td>\n",
              "    </tr>\n",
              "    <tr>\n",
              "      <th>886</th>\n",
              "      <td>0</td>\n",
              "      <td>2</td>\n",
              "      <td>1</td>\n",
              "      <td>0</td>\n",
              "      <td>0</td>\n",
              "      <td>0</td>\n",
              "      <td>0</td>\n",
              "      <td>1</td>\n",
              "      <td>0</td>\n",
              "      <td>0</td>\n",
              "      <td>...</td>\n",
              "      <td>0</td>\n",
              "      <td>0</td>\n",
              "      <td>0</td>\n",
              "      <td>0</td>\n",
              "      <td>0</td>\n",
              "      <td>0</td>\n",
              "      <td>0</td>\n",
              "      <td>0</td>\n",
              "      <td>-0.181487</td>\n",
              "      <td>-0.386671</td>\n",
              "    </tr>\n",
              "    <tr>\n",
              "      <th>887</th>\n",
              "      <td>1</td>\n",
              "      <td>1</td>\n",
              "      <td>0</td>\n",
              "      <td>0</td>\n",
              "      <td>0</td>\n",
              "      <td>0</td>\n",
              "      <td>0</td>\n",
              "      <td>1</td>\n",
              "      <td>0</td>\n",
              "      <td>0</td>\n",
              "      <td>...</td>\n",
              "      <td>0</td>\n",
              "      <td>0</td>\n",
              "      <td>0</td>\n",
              "      <td>0</td>\n",
              "      <td>0</td>\n",
              "      <td>0</td>\n",
              "      <td>0</td>\n",
              "      <td>0</td>\n",
              "      <td>-0.796286</td>\n",
              "      <td>-0.044381</td>\n",
              "    </tr>\n",
              "    <tr>\n",
              "      <th>888</th>\n",
              "      <td>0</td>\n",
              "      <td>3</td>\n",
              "      <td>0</td>\n",
              "      <td>1</td>\n",
              "      <td>2</td>\n",
              "      <td>0</td>\n",
              "      <td>0</td>\n",
              "      <td>1</td>\n",
              "      <td>0</td>\n",
              "      <td>0</td>\n",
              "      <td>...</td>\n",
              "      <td>0</td>\n",
              "      <td>0</td>\n",
              "      <td>0</td>\n",
              "      <td>0</td>\n",
              "      <td>0</td>\n",
              "      <td>0</td>\n",
              "      <td>0</td>\n",
              "      <td>0</td>\n",
              "      <td>-0.104637</td>\n",
              "      <td>-0.176263</td>\n",
              "    </tr>\n",
              "    <tr>\n",
              "      <th>889</th>\n",
              "      <td>1</td>\n",
              "      <td>1</td>\n",
              "      <td>1</td>\n",
              "      <td>0</td>\n",
              "      <td>0</td>\n",
              "      <td>1</td>\n",
              "      <td>0</td>\n",
              "      <td>0</td>\n",
              "      <td>0</td>\n",
              "      <td>0</td>\n",
              "      <td>...</td>\n",
              "      <td>0</td>\n",
              "      <td>0</td>\n",
              "      <td>0</td>\n",
              "      <td>0</td>\n",
              "      <td>0</td>\n",
              "      <td>0</td>\n",
              "      <td>0</td>\n",
              "      <td>0</td>\n",
              "      <td>-0.258337</td>\n",
              "      <td>-0.044381</td>\n",
              "    </tr>\n",
              "    <tr>\n",
              "      <th>890</th>\n",
              "      <td>0</td>\n",
              "      <td>3</td>\n",
              "      <td>1</td>\n",
              "      <td>0</td>\n",
              "      <td>0</td>\n",
              "      <td>0</td>\n",
              "      <td>1</td>\n",
              "      <td>0</td>\n",
              "      <td>0</td>\n",
              "      <td>0</td>\n",
              "      <td>...</td>\n",
              "      <td>0</td>\n",
              "      <td>0</td>\n",
              "      <td>0</td>\n",
              "      <td>0</td>\n",
              "      <td>0</td>\n",
              "      <td>0</td>\n",
              "      <td>0</td>\n",
              "      <td>0</td>\n",
              "      <td>0.202762</td>\n",
              "      <td>-0.492378</td>\n",
              "    </tr>\n",
              "  </tbody>\n",
              "</table>\n",
              "<p>891 rows × 838 columns</p>\n",
              "</div>\n",
              "      <button class=\"colab-df-convert\" onclick=\"convertToInteractive('df-c536904d-8f48-4dd8-b18a-986097ac0ce9')\"\n",
              "              title=\"Convert this dataframe to an interactive table.\"\n",
              "              style=\"display:none;\">\n",
              "        \n",
              "  <svg xmlns=\"http://www.w3.org/2000/svg\" height=\"24px\"viewBox=\"0 0 24 24\"\n",
              "       width=\"24px\">\n",
              "    <path d=\"M0 0h24v24H0V0z\" fill=\"none\"/>\n",
              "    <path d=\"M18.56 5.44l.94 2.06.94-2.06 2.06-.94-2.06-.94-.94-2.06-.94 2.06-2.06.94zm-11 1L8.5 8.5l.94-2.06 2.06-.94-2.06-.94L8.5 2.5l-.94 2.06-2.06.94zm10 10l.94 2.06.94-2.06 2.06-.94-2.06-.94-.94-2.06-.94 2.06-2.06.94z\"/><path d=\"M17.41 7.96l-1.37-1.37c-.4-.4-.92-.59-1.43-.59-.52 0-1.04.2-1.43.59L10.3 9.45l-7.72 7.72c-.78.78-.78 2.05 0 2.83L4 21.41c.39.39.9.59 1.41.59.51 0 1.02-.2 1.41-.59l7.78-7.78 2.81-2.81c.8-.78.8-2.07 0-2.86zM5.41 20L4 18.59l7.72-7.72 1.47 1.35L5.41 20z\"/>\n",
              "  </svg>\n",
              "      </button>\n",
              "      \n",
              "  <style>\n",
              "    .colab-df-container {\n",
              "      display:flex;\n",
              "      flex-wrap:wrap;\n",
              "      gap: 12px;\n",
              "    }\n",
              "\n",
              "    .colab-df-convert {\n",
              "      background-color: #E8F0FE;\n",
              "      border: none;\n",
              "      border-radius: 50%;\n",
              "      cursor: pointer;\n",
              "      display: none;\n",
              "      fill: #1967D2;\n",
              "      height: 32px;\n",
              "      padding: 0 0 0 0;\n",
              "      width: 32px;\n",
              "    }\n",
              "\n",
              "    .colab-df-convert:hover {\n",
              "      background-color: #E2EBFA;\n",
              "      box-shadow: 0px 1px 2px rgba(60, 64, 67, 0.3), 0px 1px 3px 1px rgba(60, 64, 67, 0.15);\n",
              "      fill: #174EA6;\n",
              "    }\n",
              "\n",
              "    [theme=dark] .colab-df-convert {\n",
              "      background-color: #3B4455;\n",
              "      fill: #D2E3FC;\n",
              "    }\n",
              "\n",
              "    [theme=dark] .colab-df-convert:hover {\n",
              "      background-color: #434B5C;\n",
              "      box-shadow: 0px 1px 3px 1px rgba(0, 0, 0, 0.15);\n",
              "      filter: drop-shadow(0px 1px 2px rgba(0, 0, 0, 0.3));\n",
              "      fill: #FFFFFF;\n",
              "    }\n",
              "  </style>\n",
              "\n",
              "      <script>\n",
              "        const buttonEl =\n",
              "          document.querySelector('#df-c536904d-8f48-4dd8-b18a-986097ac0ce9 button.colab-df-convert');\n",
              "        buttonEl.style.display =\n",
              "          google.colab.kernel.accessAllowed ? 'block' : 'none';\n",
              "\n",
              "        async function convertToInteractive(key) {\n",
              "          const element = document.querySelector('#df-c536904d-8f48-4dd8-b18a-986097ac0ce9');\n",
              "          const dataTable =\n",
              "            await google.colab.kernel.invokeFunction('convertToInteractive',\n",
              "                                                     [key], {});\n",
              "          if (!dataTable) return;\n",
              "\n",
              "          const docLinkHtml = 'Like what you see? Visit the ' +\n",
              "            '<a target=\"_blank\" href=https://colab.research.google.com/notebooks/data_table.ipynb>data table notebook</a>'\n",
              "            + ' to learn more about interactive tables.';\n",
              "          element.innerHTML = '';\n",
              "          dataTable['output_type'] = 'display_data';\n",
              "          await google.colab.output.renderOutput(dataTable, element);\n",
              "          const docLink = document.createElement('div');\n",
              "          docLink.innerHTML = docLinkHtml;\n",
              "          element.appendChild(docLink);\n",
              "        }\n",
              "      </script>\n",
              "    </div>\n",
              "  </div>\n",
              "  "
            ]
          },
          "metadata": {},
          "execution_count": 13
        }
      ],
      "source": [
        "#Trazendo essas novas colunas normalizadas para o dataset\n",
        "df=df.merge(scaled, left_index=True, right_index=True, how = \"right\")\n",
        "df"
      ]
    },
    {
      "cell_type": "markdown",
      "metadata": {
        "id": "BrIUlAc_u5H8"
      },
      "source": [
        "##Separação Treino e Teste"
      ]
    },
    {
      "cell_type": "code",
      "execution_count": null,
      "metadata": {
        "id": "w8SuHDQ-s2N1"
      },
      "outputs": [],
      "source": [
        "#Ignorando coluna Survived (resultado)\n",
        "X = df.drop(['Survived'], axis=1).values\n",
        "y = df['Survived'].values"
      ]
    },
    {
      "cell_type": "code",
      "execution_count": null,
      "metadata": {
        "id": "mw9A8CZ8s2LE"
      },
      "outputs": [],
      "source": [
        "#70% teste e 30% treino\n",
        "X_train, X_test, y_train, y_test = train_test_split(X, y, test_size=0.3)"
      ]
    },
    {
      "cell_type": "markdown",
      "metadata": {
        "id": "A3sZE7T-vZso"
      },
      "source": [
        "##Balanceamento de Classes"
      ]
    },
    {
      "cell_type": "code",
      "execution_count": null,
      "metadata": {
        "id": "aU8CBMtxs2Id"
      },
      "outputs": [],
      "source": [
        "from imblearn.over_sampling import SMOTE"
      ]
    },
    {
      "cell_type": "code",
      "execution_count": null,
      "metadata": {
        "id": "ypcUYIdls2GZ"
      },
      "outputs": [],
      "source": [
        "#Aplica balanceamento nas classes\n",
        "sm = SMOTE()\n",
        "x_train_oversampled, y_train_oversampled = sm.fit_resample(X_train, y_train)"
      ]
    },
    {
      "cell_type": "code",
      "execution_count": null,
      "metadata": {
        "colab": {
          "base_uri": "https://localhost:8080/"
        },
        "id": "OrsJs27Ms2EH",
        "outputId": "ddbc49df-2e97-4e44-83db-0a91a23cb883"
      },
      "outputs": [
        {
          "output_type": "stream",
          "name": "stdout",
          "text": [
            "(774, 837)\n",
            "(623, 837)\n"
          ]
        }
      ],
      "source": [
        "#Checagem via print se as classes estão balanceadas\n",
        "print(x_train_oversampled.shape)\n",
        "print(X_train.shape)"
      ]
    },
    {
      "cell_type": "markdown",
      "metadata": {
        "id": "m-_aoTcqzBGh"
      },
      "source": [
        "##Random Forest"
      ]
    },
    {
      "cell_type": "code",
      "execution_count": null,
      "metadata": {
        "id": "04SPjy6qs10J"
      },
      "outputs": [],
      "source": [
        "#Parametros Utilizados\n",
        "forest = RandomForestClassifier()\n",
        "param_grid = {'criterion': ['gini', 'entropy', 'log_loss'],\n",
        "              'max_features':['sqrt','log2'],\n",
        "              'n_estimators': [10, 20, 30, 60]}"
      ]
    },
    {
      "cell_type": "code",
      "execution_count": null,
      "metadata": {
        "id": "9weCAB8cs1x6"
      },
      "outputs": [],
      "source": [
        "#Declaração GridSearch\n",
        "g_search = GridSearchCV(estimator = forest, param_grid = param_grid, refit = True,\n",
        "                        cv = 10, return_train_score=True)"
      ]
    },
    {
      "cell_type": "code",
      "execution_count": null,
      "metadata": {
        "colab": {
          "base_uri": "https://localhost:8080/"
        },
        "id": "Int3gWfks1rI",
        "outputId": "291d51e9-100f-4eaf-eb2e-ca1c0b03588e"
      },
      "outputs": [
        {
          "output_type": "stream",
          "name": "stdout",
          "text": [
            "RandomForestClassifier(criterion='entropy', max_features='log2',\n",
            "                       n_estimators=30)\n"
          ]
        }
      ],
      "source": [
        "#Realização do treinamento\n",
        "g_search.fit(x_train_oversampled, y_train_oversampled);\n",
        "print(g_search.best_estimator_)"
      ]
    },
    {
      "cell_type": "code",
      "execution_count": null,
      "metadata": {
        "id": "M60tEwZLs12Y"
      },
      "outputs": [],
      "source": [
        "y_pred = g_search.predict(X_test)"
      ]
    },
    {
      "cell_type": "code",
      "execution_count": null,
      "metadata": {
        "id": "lSNdSzmK_DW7"
      },
      "outputs": [],
      "source": [
        "#Carregar dados GridSeach em dataframe\n",
        "g_results =  pd.DataFrame(g_search.cv_results_)"
      ]
    },
    {
      "cell_type": "code",
      "execution_count": null,
      "metadata": {
        "colab": {
          "base_uri": "https://localhost:8080/"
        },
        "id": "Ml-2bHpa_E1P",
        "outputId": "d783a616-4126-4691-a20b-4c56cbe241b6"
      },
      "outputs": [
        {
          "output_type": "execute_result",
          "data": {
            "text/plain": [
              "dict_keys(['mean_fit_time', 'std_fit_time', 'mean_score_time', 'std_score_time', 'param_criterion', 'param_max_features', 'param_n_estimators', 'params', 'split0_test_score', 'split1_test_score', 'split2_test_score', 'split3_test_score', 'split4_test_score', 'split5_test_score', 'split6_test_score', 'split7_test_score', 'split8_test_score', 'split9_test_score', 'mean_test_score', 'std_test_score', 'rank_test_score', 'split0_train_score', 'split1_train_score', 'split2_train_score', 'split3_train_score', 'split4_train_score', 'split5_train_score', 'split6_train_score', 'split7_train_score', 'split8_train_score', 'split9_train_score', 'mean_train_score', 'std_train_score'])"
            ]
          },
          "metadata": {},
          "execution_count": 24
        }
      ],
      "source": [
        "#Atributos GridSeash\n",
        "g_search.cv_results_.keys()"
      ]
    },
    {
      "cell_type": "code",
      "execution_count": null,
      "metadata": {
        "colab": {
          "base_uri": "https://localhost:8080/"
        },
        "id": "Q5L6WLOM_GC0",
        "outputId": "16f93655-0c3b-4bcc-d485-3603334c36ba"
      },
      "outputs": [
        {
          "output_type": "execute_result",
          "data": {
            "text/plain": [
              "0.8877788877788877"
            ]
          },
          "metadata": {},
          "execution_count": 25
        }
      ],
      "source": [
        "#Acurácia média em 10 folds no treino\n",
        "acTrainRF = g_results.loc[g_search.best_index_,'mean_test_score']\n",
        "g_results.loc[g_search.best_index_,'mean_test_score']"
      ]
    },
    {
      "cell_type": "code",
      "execution_count": null,
      "metadata": {
        "colab": {
          "base_uri": "https://localhost:8080/"
        },
        "id": "TZzVQ5O3_HgQ",
        "outputId": "f8880961-0b37-4e7f-a4af-8f60ae4edc0e"
      },
      "outputs": [
        {
          "output_type": "execute_result",
          "data": {
            "text/plain": [
              "0.8246268656716418"
            ]
          },
          "metadata": {},
          "execution_count": 26
        }
      ],
      "source": [
        "# Avalia o conjunto teste  com o melhor conjunto de parâmetros encontrado\n",
        "model = g_search.best_estimator_\n",
        "acTestRF = model.score(X_test,y_test)\n",
        "model.score(X_test,y_test)"
      ]
    },
    {
      "cell_type": "code",
      "execution_count": null,
      "metadata": {
        "colab": {
          "base_uri": "https://localhost:8080/",
          "height": 466
        },
        "id": "ggzOX89DE_kp",
        "outputId": "50d11327-68b3-407c-c8ea-5b18901d0076"
      },
      "outputs": [
        {
          "output_type": "execute_result",
          "data": {
            "text/plain": [
              "<sklearn.metrics._plot.confusion_matrix.ConfusionMatrixDisplay at 0x7fc849eabaf0>"
            ]
          },
          "metadata": {},
          "execution_count": 27
        },
        {
          "output_type": "display_data",
          "data": {
            "text/plain": [
              "<Figure size 640x480 with 2 Axes>"
            ],
            "image/png": "[encoded data removed]"
          },
          "metadata": {}
        }
      ],
      "source": [
        "#Matriz de confusão a partir da predição de Y\n",
        "cm = confusion_matrix(y_test, y_pred)\n",
        "ConfusionMatrixDisplay(cm).plot()"
      ]
    },
    {
      "cell_type": "markdown",
      "metadata": {
        "id": "fPJql9bFHC2d"
      },
      "source": [
        "##KNN"
      ]
    },
    {
      "cell_type": "code",
      "execution_count": null,
      "metadata": {
        "id": "FN4kbBUuHQND"
      },
      "outputs": [],
      "source": [
        "#Parametros Utilizados\n",
        "knn = KNeighborsClassifier()\n",
        "param_grid={'n_neighbors': [1, 2, 3, 4, 5, 6, 7, 8, 9, 10, 11, 12,\n",
        "                                         13, 14, 15, 16, 17, 18, 19, 20, 21, 22,\n",
        "                                         23, 24, 25, 26, 27, 28, 29, 30],\n",
        "                         'weights': ['uniform', 'distance']}"
      ]
    },
    {
      "cell_type": "code",
      "execution_count": null,
      "metadata": {
        "id": "A_UGqARoHQHj"
      },
      "outputs": [],
      "source": [
        "#Declaração GridSearch\n",
        "g_search = GridSearchCV(estimator = knn, param_grid = param_grid, refit = True,\n",
        "                        cv = 10, return_train_score=True)"
      ]
    },
    {
      "cell_type": "code",
      "execution_count": null,
      "metadata": {
        "colab": {
          "base_uri": "https://localhost:8080/"
        },
        "id": "9NeFdHusHP3e",
        "outputId": "2eafaeca-8de4-4b29-b762-1b6facf3a8bc"
      },
      "outputs": [
        {
          "output_type": "stream",
          "name": "stdout",
          "text": [
            "KNeighborsClassifier(n_neighbors=28, weights='distance')\n"
          ]
        }
      ],
      "source": [
        "#Realização do treinamento\n",
        "g_search.fit(x_train_oversampled, y_train_oversampled);\n",
        "print(g_search.best_estimator_)"
      ]
    },
    {
      "cell_type": "code",
      "execution_count": null,
      "metadata": {
        "id": "LOJSR_oJHPsr"
      },
      "outputs": [],
      "source": [
        "y_pred = g_search.predict(X_test)"
      ]
    },
    {
      "cell_type": "code",
      "execution_count": null,
      "metadata": {
        "id": "dTyEz_dO_LLx"
      },
      "outputs": [],
      "source": [
        "#Carregar dados GridSeach em dataframe\n",
        "g_results =  pd.DataFrame(g_search.cv_results_)"
      ]
    },
    {
      "cell_type": "code",
      "execution_count": null,
      "metadata": {
        "colab": {
          "base_uri": "https://localhost:8080/"
        },
        "id": "AM2FdClH_Lht",
        "outputId": "5d37f3e9-7c6b-4e27-d944-f97c4a63f76e"
      },
      "outputs": [
        {
          "output_type": "execute_result",
          "data": {
            "text/plain": [
              "dict_keys(['mean_fit_time', 'std_fit_time', 'mean_score_time', 'std_score_time', 'param_n_neighbors', 'param_weights', 'params', 'split0_test_score', 'split1_test_score', 'split2_test_score', 'split3_test_score', 'split4_test_score', 'split5_test_score', 'split6_test_score', 'split7_test_score', 'split8_test_score', 'split9_test_score', 'mean_test_score', 'std_test_score', 'rank_test_score', 'split0_train_score', 'split1_train_score', 'split2_train_score', 'split3_train_score', 'split4_train_score', 'split5_train_score', 'split6_train_score', 'split7_train_score', 'split8_train_score', 'split9_train_score', 'mean_train_score', 'std_train_score'])"
            ]
          },
          "metadata": {},
          "execution_count": 33
        }
      ],
      "source": [
        "#Atributos GridSeash\n",
        "g_search.cv_results_.keys()"
      ]
    },
    {
      "cell_type": "code",
      "execution_count": null,
      "metadata": {
        "colab": {
          "base_uri": "https://localhost:8080/"
        },
        "id": "k7PjJZ_o_M-B",
        "outputId": "3531dcca-39a3-4ed9-d68c-025afa8fb8f9"
      },
      "outputs": [
        {
          "output_type": "execute_result",
          "data": {
            "text/plain": [
              "0.8358974358974359"
            ]
          },
          "metadata": {},
          "execution_count": 34
        }
      ],
      "source": [
        "#Acurácia média em 10 folds no treino\n",
        "acTrainKNN = g_results.loc[g_search.best_index_,'mean_test_score']\n",
        "g_results.loc[g_search.best_index_,'mean_test_score']"
      ]
    },
    {
      "cell_type": "code",
      "execution_count": null,
      "metadata": {
        "colab": {
          "base_uri": "https://localhost:8080/"
        },
        "id": "6gZm0mTv_OGY",
        "outputId": "136461f8-74d7-4468-f60d-004f2c6d1136"
      },
      "outputs": [
        {
          "output_type": "execute_result",
          "data": {
            "text/plain": [
              "0.7611940298507462"
            ]
          },
          "metadata": {},
          "execution_count": 35
        }
      ],
      "source": [
        "# Avalia o conjunto teste  com o melhor conjunto de parâmetros encontrado\n",
        "model = g_search.best_estimator_\n",
        "acTestKNN = model.score(X_test,y_test)\n",
        "model.score(X_test,y_test)"
      ]
    },
    {
      "cell_type": "code",
      "execution_count": null,
      "metadata": {
        "colab": {
          "base_uri": "https://localhost:8080/",
          "height": 466
        },
        "id": "198Zjoa0HPhM",
        "outputId": "2ece2400-1c62-4e29-eec3-d7fa92a3a1e0"
      },
      "outputs": [
        {
          "output_type": "execute_result",
          "data": {
            "text/plain": [
              "<sklearn.metrics._plot.confusion_matrix.ConfusionMatrixDisplay at 0x7fc84b223100>"
            ]
          },
          "metadata": {},
          "execution_count": 36
        },
        {
          "output_type": "display_data",
          "data": {
            "text/plain": [
              "<Figure size 640x480 with 2 Axes>"
            ],
            "image/png": "[encoded data removed]"
          },
          "metadata": {}
        }
      ],
      "source": [
        "#Matriz de confusão a partir da predição de Y\n",
        "cm = confusion_matrix(y_test, y_pred)\n",
        "ConfusionMatrixDisplay(cm).plot()"
      ]
    },
    {
      "cell_type": "markdown",
      "metadata": {
        "id": "6_c7XDpmIq8s"
      },
      "source": [
        "##Arvore de Decisão"
      ]
    },
    {
      "cell_type": "code",
      "execution_count": null,
      "metadata": {
        "id": "KAz8bL3KIk-k"
      },
      "outputs": [],
      "source": [
        "#Parametros Utilizados\n",
        "tree = DecisionTreeClassifier()\n",
        "param_grid = {\n",
        "    'max_depth': [2, 3, 5, 10, 20],\n",
        "    'min_samples_leaf': [5, 10, 20, 50, 100],\n",
        "    'criterion': [\"gini\", \"entropy\"]\n",
        "}"
      ]
    },
    {
      "cell_type": "code",
      "execution_count": null,
      "metadata": {
        "id": "_J5huNo_IsNN"
      },
      "outputs": [],
      "source": [
        "#Declaração GridSearch\n",
        "g_search = GridSearchCV(estimator = tree, param_grid = param_grid, refit = True,\n",
        "                        cv = 10, return_train_score=True)"
      ]
    },
    {
      "cell_type": "code",
      "execution_count": null,
      "metadata": {
        "colab": {
          "base_uri": "https://localhost:8080/"
        },
        "id": "y2LeElHUIsBu",
        "outputId": "cc963964-459c-4b5c-b3a9-9524bd001174"
      },
      "outputs": [
        {
          "output_type": "stream",
          "name": "stdout",
          "text": [
            "DecisionTreeClassifier(max_depth=5, min_samples_leaf=10)\n"
          ]
        }
      ],
      "source": [
        "#Realização do treinamento\n",
        "g_search.fit(x_train_oversampled, y_train_oversampled);\n",
        "print(g_search.best_estimator_)"
      ]
    },
    {
      "cell_type": "code",
      "execution_count": null,
      "metadata": {
        "id": "U0e5CZSaIr6M"
      },
      "outputs": [],
      "source": [
        "y_pred = g_search.predict(X_test)"
      ]
    },
    {
      "cell_type": "code",
      "execution_count": null,
      "metadata": {
        "id": "BurhDIxW_Qtf"
      },
      "outputs": [],
      "source": [
        "#Carregar dados GridSeach em dataframe\n",
        "g_results =  pd.DataFrame(g_search.cv_results_)"
      ]
    },
    {
      "cell_type": "code",
      "execution_count": null,
      "metadata": {
        "colab": {
          "base_uri": "https://localhost:8080/"
        },
        "id": "J0i4-cP4_Q9v",
        "outputId": "a1c327ea-8d21-4b38-9344-723ee5ed0bbd"
      },
      "outputs": [
        {
          "output_type": "execute_result",
          "data": {
            "text/plain": [
              "dict_keys(['mean_fit_time', 'std_fit_time', 'mean_score_time', 'std_score_time', 'param_criterion', 'param_max_depth', 'param_min_samples_leaf', 'params', 'split0_test_score', 'split1_test_score', 'split2_test_score', 'split3_test_score', 'split4_test_score', 'split5_test_score', 'split6_test_score', 'split7_test_score', 'split8_test_score', 'split9_test_score', 'mean_test_score', 'std_test_score', 'rank_test_score', 'split0_train_score', 'split1_train_score', 'split2_train_score', 'split3_train_score', 'split4_train_score', 'split5_train_score', 'split6_train_score', 'split7_train_score', 'split8_train_score', 'split9_train_score', 'mean_train_score', 'std_train_score'])"
            ]
          },
          "metadata": {},
          "execution_count": 42
        }
      ],
      "source": [
        "#Atributos GridSeash\n",
        "g_search.cv_results_.keys()"
      ]
    },
    {
      "cell_type": "code",
      "execution_count": null,
      "metadata": {
        "colab": {
          "base_uri": "https://localhost:8080/"
        },
        "id": "l8cTlPwJ_R-T",
        "outputId": "0d278364-3436-443b-caf8-6bd30cab838f"
      },
      "outputs": [
        {
          "output_type": "execute_result",
          "data": {
            "text/plain": [
              "0.817982017982018"
            ]
          },
          "metadata": {},
          "execution_count": 43
        }
      ],
      "source": [
        "#Acurácia média em 10 folds no treino\n",
        "acTrainDT = g_results.loc[g_search.best_index_,'mean_test_score']\n",
        "g_results.loc[g_search.best_index_,'mean_test_score']"
      ]
    },
    {
      "cell_type": "code",
      "execution_count": null,
      "metadata": {
        "colab": {
          "base_uri": "https://localhost:8080/"
        },
        "id": "Jhi4XZfm_TIU",
        "outputId": "42df1fef-17d6-4f0f-e43b-a79e0dfd050b"
      },
      "outputs": [
        {
          "output_type": "execute_result",
          "data": {
            "text/plain": [
              "0.8134328358208955"
            ]
          },
          "metadata": {},
          "execution_count": 44
        }
      ],
      "source": [
        "# Avalia o conjunto teste  com o melhor conjunto de parâmetros encontrado\n",
        "model = g_search.best_estimator_\n",
        "acTestDT = model.score(X_test,y_test)\n",
        "model.score(X_test,y_test)"
      ]
    },
    {
      "cell_type": "code",
      "execution_count": null,
      "metadata": {
        "colab": {
          "base_uri": "https://localhost:8080/",
          "height": 469
        },
        "id": "ZHa3rtbhIryr",
        "outputId": "625f7350-2503-4e11-dcdc-2a0219b0fcbc"
      },
      "outputs": [
        {
          "output_type": "execute_result",
          "data": {
            "text/plain": [
              "<sklearn.metrics._plot.confusion_matrix.ConfusionMatrixDisplay at 0x7fc8119efcd0>"
            ]
          },
          "metadata": {},
          "execution_count": 45
        },
        {
          "output_type": "display_data",
          "data": {
            "text/plain": [
              "<Figure size 640x480 with 2 Axes>"
            ],
            "image/png": "[encoded data removed]"
          },
          "metadata": {}
        }
      ],
      "source": [
        "#Matriz de confusão a partir da predição de Y\n",
        "cm = confusion_matrix(y_test, y_pred)\n",
        "ConfusionMatrixDisplay(cm).plot()"
      ]
    },
    {
      "cell_type": "markdown",
      "metadata": {
        "id": "RnoQ875DG5ph"
      },
      "source": [
        "##**SciKit**"
      ]
    },
    {
      "cell_type": "code",
      "execution_count": null,
      "metadata": {
        "id": "UDuNaQJAHIC2"
      },
      "outputs": [],
      "source": [
        "from sklearn.neural_network import MLPClassifier"
      ]
    },
    {
      "cell_type": "code",
      "execution_count": null,
      "metadata": {
        "id": "zUfqHe-JmLlU"
      },
      "outputs": [],
      "source": [
        "#Parametros Utilizados e declaração GridSearch\n",
        "mlp = MLPClassifier(max_iter=100)\n",
        "parameter_grid = {\n",
        "    'hidden_layer_sizes': [(10,30,10),(25,25),(50)],\n",
        "    'activation': ['tanh', 'relu'],\n",
        "    'solver': ['sgd', 'adam'],\n",
        "    'alpha': [0.0001, 0.05],\n",
        "    'learning_rate': ['constant','adaptive'],\n",
        "}\n",
        "\n",
        "g_search = GridSearchCV(mlp, parameter_grid, n_jobs=-1, refit = True, cv=10)\n"
      ]
    },
    {
      "cell_type": "code",
      "execution_count": null,
      "metadata": {
        "colab": {
          "base_uri": "https://localhost:8080/"
        },
        "id": "0S1rMXaIndq2",
        "outputId": "86dc5a83-4f75-4cf7-9d9f-072c77c52e9f"
      },
      "outputs": [
        {
          "output_type": "stream",
          "name": "stdout",
          "text": [
            "MLPClassifier(hidden_layer_sizes=(10, 30, 10), learning_rate='adaptive',\n",
            "              max_iter=100)\n"
          ]
        },
        {
          "output_type": "stream",
          "name": "stderr",
          "text": [
            "/usr/local/lib/python3.10/dist-packages/sklearn/neural_network/_multilayer_perceptron.py:686: ConvergenceWarning: Stochastic Optimizer: Maximum iterations (100) reached and the optimization hasn't converged yet.\n",
            "  warnings.warn(\n"
          ]
        }
      ],
      "source": [
        "#Realização do treinamento\n",
        "g_search.fit(x_train_oversampled, y_train_oversampled);\n",
        "print(g_search.best_estimator_)"
      ]
    },
    {
      "cell_type": "code",
      "execution_count": null,
      "metadata": {
        "id": "yAo7h8r3ndq2"
      },
      "outputs": [],
      "source": [
        "y_pred = g_search.predict(X_test)"
      ]
    },
    {
      "cell_type": "code",
      "execution_count": null,
      "metadata": {
        "id": "3dWHrD_6ndq3"
      },
      "outputs": [],
      "source": [
        "\n",
        "#Carregar dados GridSeach em dataframe\n",
        "g_results =  pd.DataFrame(g_search.cv_results_)"
      ]
    },
    {
      "cell_type": "code",
      "execution_count": null,
      "metadata": {
        "colab": {
          "base_uri": "https://localhost:8080/"
        },
        "id": "3artVhppndq3",
        "outputId": "df441a92-e7c4-4eda-bbc9-0f6c1a5a3dbf"
      },
      "outputs": [
        {
          "output_type": "execute_result",
          "data": {
            "text/plain": [
              "dict_keys(['mean_fit_time', 'std_fit_time', 'mean_score_time', 'std_score_time', 'param_activation', 'param_alpha', 'param_hidden_layer_sizes', 'param_learning_rate', 'param_solver', 'params', 'split0_test_score', 'split1_test_score', 'split2_test_score', 'split3_test_score', 'split4_test_score', 'split5_test_score', 'split6_test_score', 'split7_test_score', 'split8_test_score', 'split9_test_score', 'mean_test_score', 'std_test_score', 'rank_test_score'])"
            ]
          },
          "metadata": {},
          "execution_count": 51
        }
      ],
      "source": [
        "#Atributos GridSeash\n",
        "g_search.cv_results_.keys()"
      ]
    },
    {
      "cell_type": "code",
      "execution_count": null,
      "metadata": {
        "colab": {
          "base_uri": "https://localhost:8080/"
        },
        "id": "T5iqnQjVndq3",
        "outputId": "63f7a7f0-9e1c-4f17-98c6-02c0dfbab3b9"
      },
      "outputs": [
        {
          "output_type": "execute_result",
          "data": {
            "text/plain": [
              "0.8955377955377954"
            ]
          },
          "metadata": {},
          "execution_count": 52
        }
      ],
      "source": [
        "#Acurácia média em 10 folds no treino\n",
        "acTrainSCI = g_results.loc[g_search.best_index_,'mean_test_score']\n",
        "g_results.loc[g_search.best_index_,'mean_test_score']"
      ]
    },
    {
      "cell_type": "code",
      "execution_count": null,
      "metadata": {
        "colab": {
          "base_uri": "https://localhost:8080/"
        },
        "id": "3EOtIFunndq4",
        "outputId": "4b6a1849-b423-470f-b1da-66e867f802f9"
      },
      "outputs": [
        {
          "output_type": "execute_result",
          "data": {
            "text/plain": [
              "0.832089552238806"
            ]
          },
          "metadata": {},
          "execution_count": 53
        }
      ],
      "source": [
        "# Avalia o conjunto teste  com o melhor conjunto de parâmetros encontrado\n",
        "model = g_search.best_estimator_\n",
        "acTestSCI = model.score(X_test,y_test)\n",
        "model.score(X_test,y_test)"
      ]
    },
    {
      "cell_type": "code",
      "execution_count": null,
      "metadata": {
        "colab": {
          "base_uri": "https://localhost:8080/",
          "height": 466
        },
        "id": "j-e9uV28GZSW",
        "outputId": "d1e4ce1e-33de-4e75-d3c2-9ee090dba087"
      },
      "outputs": [
        {
          "output_type": "execute_result",
          "data": {
            "text/plain": [
              "<sklearn.metrics._plot.confusion_matrix.ConfusionMatrixDisplay at 0x7fc8118ab520>"
            ]
          },
          "metadata": {},
          "execution_count": 54
        },
        {
          "output_type": "display_data",
          "data": {
            "text/plain": [
              "<Figure size 640x480 with 2 Axes>"
            ],
            "image/png": "[encoded data removed]"
          },
          "metadata": {}
        }
      ],
      "source": [
        "#Matriz de confusão a partir da predição de Y\n",
        "cm = confusion_matrix(y_test, y_pred)\n",
        "ConfusionMatrixDisplay(cm).plot()"
      ]
    },
    {
      "cell_type": "markdown",
      "metadata": {
        "id": "vxxQNWbNOa1n"
      },
      "source": [
        "##**Tensor Flow**"
      ]
    },
    {
      "cell_type": "code",
      "execution_count": null,
      "metadata": {
        "id": "L5Oe43P5MZlB"
      },
      "outputs": [],
      "source": [
        "from tensorflow.keras.models import Sequential\n",
        "from tensorflow.keras.layers import Dense"
      ]
    },
    {
      "cell_type": "code",
      "execution_count": null,
      "metadata": {
        "colab": {
          "base_uri": "https://localhost:8080/"
        },
        "id": "NsAXkUkzMZlV",
        "outputId": "40a4d565-389c-4aae-ce38-24a660f93429"
      },
      "outputs": [
        {
          "output_type": "stream",
          "name": "stdout",
          "text": [
            "Model: \"sequential\"\n",
            "_________________________________________________________________\n",
            " Layer (type)                Output Shape              Param #   \n",
            "=================================================================\n",
            " dense (Dense)               (None, 100)               83800     \n",
            "                                                                 \n",
            " dense_1 (Dense)             (None, 8)                 808       \n",
            "                                                                 \n",
            " dense_2 (Dense)             (None, 1)                 9         \n",
            "                                                                 \n",
            "=================================================================\n",
            "Total params: 84,617\n",
            "Trainable params: 84,617\n",
            "Non-trainable params: 0\n",
            "_________________________________________________________________\n"
          ]
        }
      ],
      "source": [
        "#Definindo o modelo do keras\n",
        "model = Sequential()\n",
        "model.add(Dense(100, input_shape=(len(df.columns)-1,), activation='relu'))\n",
        "model.add(Dense(8, activation='relu'))\n",
        "model.add(Dense(1, activation='sigmoid'))\n",
        "\n",
        "model.summary()\n"
      ]
    },
    {
      "cell_type": "code",
      "execution_count": null,
      "metadata": {
        "id": "KYExyxQwMZlW"
      },
      "outputs": [],
      "source": [
        "#Compilando modelo com parâmetros desejados\n",
        "model.compile(optimizer='adam',\n",
        "\t\t\tloss='mae',\n",
        "             metrics=['accuracy'])\n"
      ]
    },
    {
      "cell_type": "code",
      "execution_count": null,
      "metadata": {
        "colab": {
          "base_uri": "https://localhost:8080/"
        },
        "id": "kncZmUaMMZlW",
        "outputId": "93815c9e-3fa1-4835-d369-f7a1621bb76f"
      },
      "outputs": [
        {
          "output_type": "stream",
          "name": "stdout",
          "text": [
            "Epoch 1/100\n",
            "13/13 [==============================] - 1s 18ms/step - loss: 0.4567 - accuracy: 0.6196 - val_loss: 0.4326 - val_accuracy: 0.6045\n",
            "Epoch 2/100\n",
            "13/13 [==============================] - 0s 6ms/step - loss: 0.4033 - accuracy: 0.6212 - val_loss: 0.3936 - val_accuracy: 0.6045\n",
            "Epoch 3/100\n",
            "13/13 [==============================] - 0s 7ms/step - loss: 0.3673 - accuracy: 0.6228 - val_loss: 0.3706 - val_accuracy: 0.6082\n",
            "Epoch 4/100\n",
            "13/13 [==============================] - 0s 6ms/step - loss: 0.3450 - accuracy: 0.6308 - val_loss: 0.3588 - val_accuracy: 0.6119\n",
            "Epoch 5/100\n",
            "13/13 [==============================] - 0s 6ms/step - loss: 0.3309 - accuracy: 0.6533 - val_loss: 0.3472 - val_accuracy: 0.6493\n",
            "Epoch 6/100\n",
            "13/13 [==============================] - 0s 6ms/step - loss: 0.3151 - accuracy: 0.6902 - val_loss: 0.3352 - val_accuracy: 0.6940\n",
            "Epoch 7/100\n",
            "13/13 [==============================] - 0s 7ms/step - loss: 0.2948 - accuracy: 0.7400 - val_loss: 0.3216 - val_accuracy: 0.7127\n",
            "Epoch 8/100\n",
            "13/13 [==============================] - 0s 6ms/step - loss: 0.2671 - accuracy: 0.7849 - val_loss: 0.3050 - val_accuracy: 0.7388\n",
            "Epoch 9/100\n",
            "13/13 [==============================] - 0s 6ms/step - loss: 0.2348 - accuracy: 0.8555 - val_loss: 0.2871 - val_accuracy: 0.7724\n",
            "Epoch 10/100\n",
            "13/13 [==============================] - 0s 7ms/step - loss: 0.2023 - accuracy: 0.8941 - val_loss: 0.2704 - val_accuracy: 0.7948\n",
            "Epoch 11/100\n",
            "13/13 [==============================] - 0s 5ms/step - loss: 0.1688 - accuracy: 0.9149 - val_loss: 0.2543 - val_accuracy: 0.8060\n",
            "Epoch 12/100\n",
            "13/13 [==============================] - 0s 6ms/step - loss: 0.1423 - accuracy: 0.9149 - val_loss: 0.2462 - val_accuracy: 0.8097\n",
            "Epoch 13/100\n",
            "13/13 [==============================] - 0s 7ms/step - loss: 0.1167 - accuracy: 0.9358 - val_loss: 0.2400 - val_accuracy: 0.8097\n",
            "Epoch 14/100\n",
            "13/13 [==============================] - 0s 5ms/step - loss: 0.0972 - accuracy: 0.9438 - val_loss: 0.2409 - val_accuracy: 0.8097\n",
            "Epoch 15/100\n",
            "13/13 [==============================] - 0s 6ms/step - loss: 0.0762 - accuracy: 0.9631 - val_loss: 0.2362 - val_accuracy: 0.8060\n",
            "Epoch 16/100\n",
            "13/13 [==============================] - 0s 6ms/step - loss: 0.0611 - accuracy: 0.9791 - val_loss: 0.2365 - val_accuracy: 0.7985\n",
            "Epoch 17/100\n",
            "13/13 [==============================] - 0s 5ms/step - loss: 0.0492 - accuracy: 0.9904 - val_loss: 0.2359 - val_accuracy: 0.8097\n",
            "Epoch 18/100\n",
            "13/13 [==============================] - 0s 5ms/step - loss: 0.0399 - accuracy: 0.9920 - val_loss: 0.2392 - val_accuracy: 0.8060\n",
            "Epoch 19/100\n",
            "13/13 [==============================] - 0s 5ms/step - loss: 0.0339 - accuracy: 0.9920 - val_loss: 0.2237 - val_accuracy: 0.8097\n",
            "Epoch 20/100\n",
            "13/13 [==============================] - 0s 6ms/step - loss: 0.0283 - accuracy: 0.9920 - val_loss: 0.2319 - val_accuracy: 0.8060\n",
            "Epoch 21/100\n",
            "13/13 [==============================] - 0s 5ms/step - loss: 0.0248 - accuracy: 0.9920 - val_loss: 0.2217 - val_accuracy: 0.8134\n",
            "Epoch 22/100\n",
            "13/13 [==============================] - 0s 6ms/step - loss: 0.0218 - accuracy: 0.9936 - val_loss: 0.2200 - val_accuracy: 0.8172\n",
            "Epoch 23/100\n",
            "13/13 [==============================] - 0s 5ms/step - loss: 0.0196 - accuracy: 0.9920 - val_loss: 0.2142 - val_accuracy: 0.8172\n",
            "Epoch 24/100\n",
            "13/13 [==============================] - 0s 6ms/step - loss: 0.0178 - accuracy: 0.9936 - val_loss: 0.2142 - val_accuracy: 0.8172\n",
            "Epoch 25/100\n",
            "13/13 [==============================] - 0s 7ms/step - loss: 0.0167 - accuracy: 0.9936 - val_loss: 0.2103 - val_accuracy: 0.8172\n",
            "Epoch 26/100\n",
            "13/13 [==============================] - 0s 7ms/step - loss: 0.0154 - accuracy: 0.9936 - val_loss: 0.2090 - val_accuracy: 0.8172\n",
            "Epoch 27/100\n",
            "13/13 [==============================] - 0s 4ms/step - loss: 0.0148 - accuracy: 0.9936 - val_loss: 0.2076 - val_accuracy: 0.8172\n",
            "Epoch 28/100\n",
            "13/13 [==============================] - 0s 5ms/step - loss: 0.0137 - accuracy: 0.9936 - val_loss: 0.2052 - val_accuracy: 0.8172\n",
            "Epoch 29/100\n",
            "13/13 [==============================] - 0s 6ms/step - loss: 0.0130 - accuracy: 0.9936 - val_loss: 0.2028 - val_accuracy: 0.8172\n",
            "Epoch 30/100\n",
            "13/13 [==============================] - 0s 4ms/step - loss: 0.0126 - accuracy: 0.9936 - val_loss: 0.2031 - val_accuracy: 0.8172\n",
            "Epoch 31/100\n",
            "13/13 [==============================] - 0s 4ms/step - loss: 0.0124 - accuracy: 0.9936 - val_loss: 0.1999 - val_accuracy: 0.8246\n",
            "Epoch 32/100\n",
            "13/13 [==============================] - 0s 4ms/step - loss: 0.0119 - accuracy: 0.9936 - val_loss: 0.2015 - val_accuracy: 0.8172\n",
            "Epoch 33/100\n",
            "13/13 [==============================] - 0s 4ms/step - loss: 0.0110 - accuracy: 0.9936 - val_loss: 0.2017 - val_accuracy: 0.8246\n",
            "Epoch 34/100\n",
            "13/13 [==============================] - 0s 4ms/step - loss: 0.0107 - accuracy: 0.9936 - val_loss: 0.1990 - val_accuracy: 0.8246\n",
            "Epoch 35/100\n",
            "13/13 [==============================] - 0s 4ms/step - loss: 0.0104 - accuracy: 0.9936 - val_loss: 0.1976 - val_accuracy: 0.8284\n",
            "Epoch 36/100\n",
            "13/13 [==============================] - 0s 5ms/step - loss: 0.0101 - accuracy: 0.9936 - val_loss: 0.1977 - val_accuracy: 0.8246\n",
            "Epoch 37/100\n",
            "13/13 [==============================] - 0s 5ms/step - loss: 0.0099 - accuracy: 0.9936 - val_loss: 0.1965 - val_accuracy: 0.8284\n",
            "Epoch 38/100\n",
            "13/13 [==============================] - 0s 4ms/step - loss: 0.0093 - accuracy: 0.9936 - val_loss: 0.1950 - val_accuracy: 0.8321\n",
            "Epoch 39/100\n",
            "13/13 [==============================] - 0s 6ms/step - loss: 0.0098 - accuracy: 0.9936 - val_loss: 0.1936 - val_accuracy: 0.8284\n",
            "Epoch 40/100\n",
            "13/13 [==============================] - 0s 4ms/step - loss: 0.0089 - accuracy: 0.9952 - val_loss: 0.1944 - val_accuracy: 0.8284\n",
            "Epoch 41/100\n",
            "13/13 [==============================] - 0s 5ms/step - loss: 0.0089 - accuracy: 0.9936 - val_loss: 0.1944 - val_accuracy: 0.8246\n",
            "Epoch 42/100\n",
            "13/13 [==============================] - 0s 6ms/step - loss: 0.0087 - accuracy: 0.9936 - val_loss: 0.1940 - val_accuracy: 0.8284\n",
            "Epoch 43/100\n",
            "13/13 [==============================] - 0s 5ms/step - loss: 0.0086 - accuracy: 0.9936 - val_loss: 0.1926 - val_accuracy: 0.8321\n",
            "Epoch 44/100\n",
            "13/13 [==============================] - 0s 5ms/step - loss: 0.0088 - accuracy: 0.9936 - val_loss: 0.1928 - val_accuracy: 0.8284\n",
            "Epoch 45/100\n",
            "13/13 [==============================] - 0s 4ms/step - loss: 0.0082 - accuracy: 0.9936 - val_loss: 0.1921 - val_accuracy: 0.8284\n",
            "Epoch 46/100\n",
            "13/13 [==============================] - 0s 4ms/step - loss: 0.0086 - accuracy: 0.9936 - val_loss: 0.1917 - val_accuracy: 0.8321\n",
            "Epoch 47/100\n",
            "13/13 [==============================] - 0s 4ms/step - loss: 0.0079 - accuracy: 0.9952 - val_loss: 0.1910 - val_accuracy: 0.8284\n",
            "Epoch 48/100\n",
            "13/13 [==============================] - 0s 4ms/step - loss: 0.0084 - accuracy: 0.9936 - val_loss: 0.1920 - val_accuracy: 0.8321\n",
            "Epoch 49/100\n",
            "13/13 [==============================] - 0s 5ms/step - loss: 0.0087 - accuracy: 0.9936 - val_loss: 0.1908 - val_accuracy: 0.8396\n",
            "Epoch 50/100\n",
            "13/13 [==============================] - 0s 5ms/step - loss: 0.0081 - accuracy: 0.9936 - val_loss: 0.1915 - val_accuracy: 0.8284\n",
            "Epoch 51/100\n",
            "13/13 [==============================] - 0s 4ms/step - loss: 0.0075 - accuracy: 0.9952 - val_loss: 0.1901 - val_accuracy: 0.8321\n",
            "Epoch 52/100\n",
            "13/13 [==============================] - 0s 4ms/step - loss: 0.0073 - accuracy: 0.9952 - val_loss: 0.1902 - val_accuracy: 0.8321\n",
            "Epoch 53/100\n",
            "13/13 [==============================] - 0s 4ms/step - loss: 0.0079 - accuracy: 0.9936 - val_loss: 0.1909 - val_accuracy: 0.8246\n",
            "Epoch 54/100\n",
            "13/13 [==============================] - 0s 4ms/step - loss: 0.0073 - accuracy: 0.9952 - val_loss: 0.1892 - val_accuracy: 0.8321\n",
            "Epoch 55/100\n",
            "13/13 [==============================] - 0s 4ms/step - loss: 0.0073 - accuracy: 0.9936 - val_loss: 0.1884 - val_accuracy: 0.8321\n",
            "Epoch 56/100\n",
            "13/13 [==============================] - 0s 4ms/step - loss: 0.0077 - accuracy: 0.9936 - val_loss: 0.1900 - val_accuracy: 0.8246\n",
            "Epoch 57/100\n",
            "13/13 [==============================] - 0s 5ms/step - loss: 0.0070 - accuracy: 0.9952 - val_loss: 0.1880 - val_accuracy: 0.8321\n",
            "Epoch 58/100\n",
            "13/13 [==============================] - 0s 6ms/step - loss: 0.0075 - accuracy: 0.9936 - val_loss: 0.1887 - val_accuracy: 0.8321\n",
            "Epoch 59/100\n",
            "13/13 [==============================] - 0s 5ms/step - loss: 0.0068 - accuracy: 0.9952 - val_loss: 0.1872 - val_accuracy: 0.8321\n",
            "Epoch 60/100\n",
            "13/13 [==============================] - 0s 4ms/step - loss: 0.0074 - accuracy: 0.9936 - val_loss: 0.1867 - val_accuracy: 0.8321\n",
            "Epoch 61/100\n",
            "13/13 [==============================] - 0s 4ms/step - loss: 0.0065 - accuracy: 0.9952 - val_loss: 0.1889 - val_accuracy: 0.8284\n",
            "Epoch 62/100\n",
            "13/13 [==============================] - 0s 4ms/step - loss: 0.0073 - accuracy: 0.9936 - val_loss: 0.1892 - val_accuracy: 0.8246\n",
            "Epoch 63/100\n",
            "13/13 [==============================] - 0s 4ms/step - loss: 0.0082 - accuracy: 0.9920 - val_loss: 0.1886 - val_accuracy: 0.8358\n",
            "Epoch 64/100\n",
            "13/13 [==============================] - 0s 5ms/step - loss: 0.0076 - accuracy: 0.9936 - val_loss: 0.1872 - val_accuracy: 0.8321\n",
            "Epoch 65/100\n",
            "13/13 [==============================] - 0s 5ms/step - loss: 0.0066 - accuracy: 0.9952 - val_loss: 0.1869 - val_accuracy: 0.8321\n",
            "Epoch 66/100\n",
            "13/13 [==============================] - 0s 5ms/step - loss: 0.0072 - accuracy: 0.9936 - val_loss: 0.1872 - val_accuracy: 0.8321\n",
            "Epoch 67/100\n",
            "13/13 [==============================] - 0s 5ms/step - loss: 0.0069 - accuracy: 0.9936 - val_loss: 0.1851 - val_accuracy: 0.8396\n",
            "Epoch 68/100\n",
            "13/13 [==============================] - 0s 5ms/step - loss: 0.0068 - accuracy: 0.9936 - val_loss: 0.1862 - val_accuracy: 0.8321\n",
            "Epoch 69/100\n",
            "13/13 [==============================] - 0s 5ms/step - loss: 0.0065 - accuracy: 0.9952 - val_loss: 0.1863 - val_accuracy: 0.8321\n",
            "Epoch 70/100\n",
            "13/13 [==============================] - 0s 6ms/step - loss: 0.0066 - accuracy: 0.9952 - val_loss: 0.1847 - val_accuracy: 0.8321\n",
            "Epoch 71/100\n",
            "13/13 [==============================] - 0s 4ms/step - loss: 0.0065 - accuracy: 0.9936 - val_loss: 0.1848 - val_accuracy: 0.8321\n",
            "Epoch 72/100\n",
            "13/13 [==============================] - 0s 5ms/step - loss: 0.0063 - accuracy: 0.9952 - val_loss: 0.1870 - val_accuracy: 0.8284\n",
            "Epoch 73/100\n",
            "13/13 [==============================] - 0s 4ms/step - loss: 0.0068 - accuracy: 0.9936 - val_loss: 0.1855 - val_accuracy: 0.8321\n",
            "Epoch 74/100\n",
            "13/13 [==============================] - 0s 4ms/step - loss: 0.0064 - accuracy: 0.9952 - val_loss: 0.1838 - val_accuracy: 0.8321\n",
            "Epoch 75/100\n",
            "13/13 [==============================] - 0s 4ms/step - loss: 0.0065 - accuracy: 0.9952 - val_loss: 0.1849 - val_accuracy: 0.8321\n",
            "Epoch 76/100\n",
            "13/13 [==============================] - 0s 4ms/step - loss: 0.0063 - accuracy: 0.9952 - val_loss: 0.1841 - val_accuracy: 0.8321\n",
            "Epoch 77/100\n",
            "13/13 [==============================] - 0s 5ms/step - loss: 0.0070 - accuracy: 0.9936 - val_loss: 0.1864 - val_accuracy: 0.8246\n",
            "Epoch 78/100\n",
            "13/13 [==============================] - 0s 4ms/step - loss: 0.0060 - accuracy: 0.9952 - val_loss: 0.1833 - val_accuracy: 0.8396\n",
            "Epoch 79/100\n",
            "13/13 [==============================] - 0s 4ms/step - loss: 0.0066 - accuracy: 0.9936 - val_loss: 0.1839 - val_accuracy: 0.8321\n",
            "Epoch 80/100\n",
            "13/13 [==============================] - 0s 4ms/step - loss: 0.0064 - accuracy: 0.9952 - val_loss: 0.1839 - val_accuracy: 0.8321\n",
            "Epoch 81/100\n",
            "13/13 [==============================] - 0s 4ms/step - loss: 0.0066 - accuracy: 0.9936 - val_loss: 0.1838 - val_accuracy: 0.8321\n",
            "Epoch 82/100\n",
            "13/13 [==============================] - 0s 4ms/step - loss: 0.0062 - accuracy: 0.9952 - val_loss: 0.1825 - val_accuracy: 0.8396\n",
            "Epoch 83/100\n",
            "13/13 [==============================] - 0s 5ms/step - loss: 0.0064 - accuracy: 0.9952 - val_loss: 0.1824 - val_accuracy: 0.8358\n",
            "Epoch 84/100\n",
            "13/13 [==============================] - 0s 4ms/step - loss: 0.0067 - accuracy: 0.9936 - val_loss: 0.1843 - val_accuracy: 0.8358\n",
            "Epoch 85/100\n",
            "13/13 [==============================] - 0s 4ms/step - loss: 0.0073 - accuracy: 0.9936 - val_loss: 0.1835 - val_accuracy: 0.8358\n",
            "Epoch 86/100\n",
            "13/13 [==============================] - 0s 5ms/step - loss: 0.0063 - accuracy: 0.9936 - val_loss: 0.1837 - val_accuracy: 0.8396\n",
            "Epoch 87/100\n",
            "13/13 [==============================] - 0s 4ms/step - loss: 0.0075 - accuracy: 0.9936 - val_loss: 0.1903 - val_accuracy: 0.8172\n",
            "Epoch 88/100\n",
            "13/13 [==============================] - 0s 5ms/step - loss: 0.0066 - accuracy: 0.9936 - val_loss: 0.1830 - val_accuracy: 0.8358\n",
            "Epoch 89/100\n",
            "13/13 [==============================] - 0s 4ms/step - loss: 0.0069 - accuracy: 0.9936 - val_loss: 0.1830 - val_accuracy: 0.8396\n",
            "Epoch 90/100\n",
            "13/13 [==============================] - 0s 5ms/step - loss: 0.0070 - accuracy: 0.9936 - val_loss: 0.1848 - val_accuracy: 0.8321\n",
            "Epoch 91/100\n",
            "13/13 [==============================] - 0s 5ms/step - loss: 0.0061 - accuracy: 0.9936 - val_loss: 0.1825 - val_accuracy: 0.8396\n",
            "Epoch 92/100\n",
            "13/13 [==============================] - 0s 6ms/step - loss: 0.0057 - accuracy: 0.9952 - val_loss: 0.1810 - val_accuracy: 0.8396\n",
            "Epoch 93/100\n",
            "13/13 [==============================] - 0s 4ms/step - loss: 0.0065 - accuracy: 0.9936 - val_loss: 0.1807 - val_accuracy: 0.8396\n",
            "Epoch 94/100\n",
            "13/13 [==============================] - 0s 4ms/step - loss: 0.0066 - accuracy: 0.9936 - val_loss: 0.1885 - val_accuracy: 0.8209\n",
            "Epoch 95/100\n",
            "13/13 [==============================] - 0s 4ms/step - loss: 0.0072 - accuracy: 0.9936 - val_loss: 0.1805 - val_accuracy: 0.8396\n",
            "Epoch 96/100\n",
            "13/13 [==============================] - 0s 5ms/step - loss: 0.0065 - accuracy: 0.9936 - val_loss: 0.1827 - val_accuracy: 0.8396\n",
            "Epoch 97/100\n",
            "13/13 [==============================] - 0s 5ms/step - loss: 0.0059 - accuracy: 0.9952 - val_loss: 0.1803 - val_accuracy: 0.8358\n",
            "Epoch 98/100\n",
            "13/13 [==============================] - 0s 4ms/step - loss: 0.0069 - accuracy: 0.9936 - val_loss: 0.1843 - val_accuracy: 0.8358\n",
            "Epoch 99/100\n",
            "13/13 [==============================] - 0s 5ms/step - loss: 0.0068 - accuracy: 0.9936 - val_loss: 0.1803 - val_accuracy: 0.8396\n",
            "Epoch 100/100\n",
            "13/13 [==============================] - 0s 5ms/step - loss: 0.0067 - accuracy: 0.9936 - val_loss: 0.1843 - val_accuracy: 0.8321\n"
          ]
        }
      ],
      "source": [
        "#Realização do treinamento e validação\n",
        "losses = model.fit(X_train, y_train,\n",
        "\n",
        "\t\t\t\tvalidation_data=(X_test, y_test),\n",
        "\n",
        "\t\t\t\tbatch_size=50,\n",
        "\t\t\t\tepochs=100,\n",
        "\t\t\t\t)\n"
      ]
    },
    {
      "cell_type": "code",
      "execution_count": null,
      "metadata": {
        "colab": {
          "base_uri": "https://localhost:8080/"
        },
        "id": "VQi6qPXd5FVE",
        "outputId": "fe093710-33c6-432f-b7b2-027df7c34585"
      },
      "outputs": [
        {
          "output_type": "stream",
          "name": "stdout",
          "text": [
            "9/9 [==============================] - 0s 2ms/step - loss: 0.1843 - accuracy: 0.8321\n"
          ]
        },
        {
          "output_type": "execute_result",
          "data": {
            "text/plain": [
              "[0.184317946434021, 0.8320895433425903]"
            ]
          },
          "metadata": {},
          "execution_count": 59
        }
      ],
      "source": [
        "model.evaluate(X_test, y_test)"
      ]
    },
    {
      "cell_type": "code",
      "execution_count": null,
      "metadata": {
        "colab": {
          "base_uri": "https://localhost:8080/"
        },
        "id": "7PoHspvGE_l1",
        "outputId": "7a40a4f1-d726-4273-f239-719b82dac59e"
      },
      "outputs": [
        {
          "output_type": "stream",
          "name": "stdout",
          "text": [
            "20/20 [==============================] - 0s 1ms/step - loss: 0.0058 - accuracy: 0.9952\n"
          ]
        }
      ],
      "source": [
        "loss, acTrainKer = model.evaluate(X_train, y_train)"
      ]
    },
    {
      "cell_type": "code",
      "execution_count": null,
      "metadata": {
        "colab": {
          "base_uri": "https://localhost:8080/"
        },
        "id": "tXbXnI_LMZlX",
        "outputId": "e45e17fb-e12b-4aec-d321-db96394a3dc3"
      },
      "outputs": [
        {
          "output_type": "stream",
          "name": "stdout",
          "text": [
            "9/9 [==============================] - 0s 1ms/step\n"
          ]
        }
      ],
      "source": [
        "#Predição\n",
        "y_pred = (model.predict(X_test) > 0.5).astype(int)"
      ]
    },
    {
      "cell_type": "code",
      "execution_count": null,
      "metadata": {
        "colab": {
          "base_uri": "https://localhost:8080/"
        },
        "id": "rdCNZnz46jAZ",
        "outputId": "fb8f1b5d-d031-49b5-b481-14f666893f31"
      },
      "outputs": [
        {
          "output_type": "execute_result",
          "data": {
            "text/plain": [
              "0.832089552238806"
            ]
          },
          "metadata": {},
          "execution_count": 62
        }
      ],
      "source": [
        "#Acurácia teste\n",
        "acTestK = accuracy_score(y_test,y_pred)\n",
        "accuracy_score(y_test,y_pred)"
      ]
    },
    {
      "cell_type": "code",
      "execution_count": null,
      "metadata": {
        "colab": {
          "base_uri": "https://localhost:8080/",
          "height": 424
        },
        "id": "CdxbCklP8bC-",
        "outputId": "a1a3d9d1-c8a6-4818-eae5-0513f74151c9"
      },
      "outputs": [
        {
          "output_type": "execute_result",
          "data": {
            "text/plain": [
              "        loss  accuracy  val_loss  val_accuracy\n",
              "0   0.456716  0.619583  0.432564      0.604478\n",
              "1   0.403267  0.621188  0.393642      0.604478\n",
              "2   0.367251  0.622793  0.370628      0.608209\n",
              "3   0.344983  0.630819  0.358824      0.611940\n",
              "4   0.330892  0.653291  0.347208      0.649254\n",
              "..       ...       ...       ...           ...\n",
              "95  0.006470  0.993579  0.182717      0.839552\n",
              "96  0.005898  0.995185  0.180327      0.835821\n",
              "97  0.006949  0.993579  0.184295      0.835821\n",
              "98  0.006795  0.993579  0.180295      0.839552\n",
              "99  0.006714  0.993579  0.184318      0.832090\n",
              "\n",
              "[100 rows x 4 columns]"
            ],
            "text/html": [
              "\n",
              "  <div id=\"df-5b3badff-78e6-4d28-b3e8-75be3797fd97\">\n",
              "    <div class=\"colab-df-container\">\n",
              "      <div>\n",
              "<style scoped>\n",
              "    .dataframe tbody tr th:only-of-type {\n",
              "        vertical-align: middle;\n",
              "    }\n",
              "\n",
              "    .dataframe tbody tr th {\n",
              "        vertical-align: top;\n",
              "    }\n",
              "\n",
              "    .dataframe thead th {\n",
              "        text-align: right;\n",
              "    }\n",
              "</style>\n",
              "<table border=\"1\" class=\"dataframe\">\n",
              "  <thead>\n",
              "    <tr style=\"text-align: right;\">\n",
              "      <th></th>\n",
              "      <th>loss</th>\n",
              "      <th>accuracy</th>\n",
              "      <th>val_loss</th>\n",
              "      <th>val_accuracy</th>\n",
              "    </tr>\n",
              "  </thead>\n",
              "  <tbody>\n",
              "    <tr>\n",
              "      <th>0</th>\n",
              "      <td>0.456716</td>\n",
              "      <td>0.619583</td>\n",
              "      <td>0.432564</td>\n",
              "      <td>0.604478</td>\n",
              "    </tr>\n",
              "    <tr>\n",
              "      <th>1</th>\n",
              "      <td>0.403267</td>\n",
              "      <td>0.621188</td>\n",
              "      <td>0.393642</td>\n",
              "      <td>0.604478</td>\n",
              "    </tr>\n",
              "    <tr>\n",
              "      <th>2</th>\n",
              "      <td>0.367251</td>\n",
              "      <td>0.622793</td>\n",
              "      <td>0.370628</td>\n",
              "      <td>0.608209</td>\n",
              "    </tr>\n",
              "    <tr>\n",
              "      <th>3</th>\n",
              "      <td>0.344983</td>\n",
              "      <td>0.630819</td>\n",
              "      <td>0.358824</td>\n",
              "      <td>0.611940</td>\n",
              "    </tr>\n",
              "    <tr>\n",
              "      <th>4</th>\n",
              "      <td>0.330892</td>\n",
              "      <td>0.653291</td>\n",
              "      <td>0.347208</td>\n",
              "      <td>0.649254</td>\n",
              "    </tr>\n",
              "    <tr>\n",
              "      <th>...</th>\n",
              "      <td>...</td>\n",
              "      <td>...</td>\n",
              "      <td>...</td>\n",
              "      <td>...</td>\n",
              "    </tr>\n",
              "    <tr>\n",
              "      <th>95</th>\n",
              "      <td>0.006470</td>\n",
              "      <td>0.993579</td>\n",
              "      <td>0.182717</td>\n",
              "      <td>0.839552</td>\n",
              "    </tr>\n",
              "    <tr>\n",
              "      <th>96</th>\n",
              "      <td>0.005898</td>\n",
              "      <td>0.995185</td>\n",
              "      <td>0.180327</td>\n",
              "      <td>0.835821</td>\n",
              "    </tr>\n",
              "    <tr>\n",
              "      <th>97</th>\n",
              "      <td>0.006949</td>\n",
              "      <td>0.993579</td>\n",
              "      <td>0.184295</td>\n",
              "      <td>0.835821</td>\n",
              "    </tr>\n",
              "    <tr>\n",
              "      <th>98</th>\n",
              "      <td>0.006795</td>\n",
              "      <td>0.993579</td>\n",
              "      <td>0.180295</td>\n",
              "      <td>0.839552</td>\n",
              "    </tr>\n",
              "    <tr>\n",
              "      <th>99</th>\n",
              "      <td>0.006714</td>\n",
              "      <td>0.993579</td>\n",
              "      <td>0.184318</td>\n",
              "      <td>0.832090</td>\n",
              "    </tr>\n",
              "  </tbody>\n",
              "</table>\n",
              "<p>100 rows × 4 columns</p>\n",
              "</div>\n",
              "      <button class=\"colab-df-convert\" onclick=\"convertToInteractive('df-5b3badff-78e6-4d28-b3e8-75be3797fd97')\"\n",
              "              title=\"Convert this dataframe to an interactive table.\"\n",
              "              style=\"display:none;\">\n",
              "        \n",
              "  <svg xmlns=\"http://www.w3.org/2000/svg\" height=\"24px\"viewBox=\"0 0 24 24\"\n",
              "       width=\"24px\">\n",
              "    <path d=\"M0 0h24v24H0V0z\" fill=\"none\"/>\n",
              "    <path d=\"M18.56 5.44l.94 2.06.94-2.06 2.06-.94-2.06-.94-.94-2.06-.94 2.06-2.06.94zm-11 1L8.5 8.5l.94-2.06 2.06-.94-2.06-.94L8.5 2.5l-.94 2.06-2.06.94zm10 10l.94 2.06.94-2.06 2.06-.94-2.06-.94-.94-2.06-.94 2.06-2.06.94z\"/><path d=\"M17.41 7.96l-1.37-1.37c-.4-.4-.92-.59-1.43-.59-.52 0-1.04.2-1.43.59L10.3 9.45l-7.72 7.72c-.78.78-.78 2.05 0 2.83L4 21.41c.39.39.9.59 1.41.59.51 0 1.02-.2 1.41-.59l7.78-7.78 2.81-2.81c.8-.78.8-2.07 0-2.86zM5.41 20L4 18.59l7.72-7.72 1.47 1.35L5.41 20z\"/>\n",
              "  </svg>\n",
              "      </button>\n",
              "      \n",
              "  <style>\n",
              "    .colab-df-container {\n",
              "      display:flex;\n",
              "      flex-wrap:wrap;\n",
              "      gap: 12px;\n",
              "    }\n",
              "\n",
              "    .colab-df-convert {\n",
              "      background-color: #E8F0FE;\n",
              "      border: none;\n",
              "      border-radius: 50%;\n",
              "      cursor: pointer;\n",
              "      display: none;\n",
              "      fill: #1967D2;\n",
              "      height: 32px;\n",
              "      padding: 0 0 0 0;\n",
              "      width: 32px;\n",
              "    }\n",
              "\n",
              "    .colab-df-convert:hover {\n",
              "      background-color: #E2EBFA;\n",
              "      box-shadow: 0px 1px 2px rgba(60, 64, 67, 0.3), 0px 1px 3px 1px rgba(60, 64, 67, 0.15);\n",
              "      fill: #174EA6;\n",
              "    }\n",
              "\n",
              "    [theme=dark] .colab-df-convert {\n",
              "      background-color: #3B4455;\n",
              "      fill: #D2E3FC;\n",
              "    }\n",
              "\n",
              "    [theme=dark] .colab-df-convert:hover {\n",
              "      background-color: #434B5C;\n",
              "      box-shadow: 0px 1px 3px 1px rgba(0, 0, 0, 0.15);\n",
              "      filter: drop-shadow(0px 1px 2px rgba(0, 0, 0, 0.3));\n",
              "      fill: #FFFFFF;\n",
              "    }\n",
              "  </style>\n",
              "\n",
              "      <script>\n",
              "        const buttonEl =\n",
              "          document.querySelector('#df-5b3badff-78e6-4d28-b3e8-75be3797fd97 button.colab-df-convert');\n",
              "        buttonEl.style.display =\n",
              "          google.colab.kernel.accessAllowed ? 'block' : 'none';\n",
              "\n",
              "        async function convertToInteractive(key) {\n",
              "          const element = document.querySelector('#df-5b3badff-78e6-4d28-b3e8-75be3797fd97');\n",
              "          const dataTable =\n",
              "            await google.colab.kernel.invokeFunction('convertToInteractive',\n",
              "                                                     [key], {});\n",
              "          if (!dataTable) return;\n",
              "\n",
              "          const docLinkHtml = 'Like what you see? Visit the ' +\n",
              "            '<a target=\"_blank\" href=https://colab.research.google.com/notebooks/data_table.ipynb>data table notebook</a>'\n",
              "            + ' to learn more about interactive tables.';\n",
              "          element.innerHTML = '';\n",
              "          dataTable['output_type'] = 'display_data';\n",
              "          await google.colab.output.renderOutput(dataTable, element);\n",
              "          const docLink = document.createElement('div');\n",
              "          docLink.innerHTML = docLinkHtml;\n",
              "          element.appendChild(docLink);\n",
              "        }\n",
              "      </script>\n",
              "    </div>\n",
              "  </div>\n",
              "  "
            ]
          },
          "metadata": {},
          "execution_count": 63
        }
      ],
      "source": [
        "#Histórico de loss/val de cada epoch\n",
        "loss_df = pd.DataFrame(losses.history)\n",
        "loss_df"
      ]
    },
    {
      "cell_type": "code",
      "execution_count": null,
      "metadata": {
        "colab": {
          "base_uri": "https://localhost:8080/",
          "height": 447
        },
        "id": "l_IESxLRMZlY",
        "outputId": "5b7e72a1-0882-4a7f-ddc7-384e862dbf79"
      },
      "outputs": [
        {
          "output_type": "execute_result",
          "data": {
            "text/plain": [
              "<Axes: >"
            ]
          },
          "metadata": {},
          "execution_count": 64
        },
        {
          "output_type": "display_data",
          "data": {
            "text/plain": [
              "<Figure size 640x480 with 1 Axes>"
            ],
            "image/png": "[encoded data removed]"
          },
          "metadata": {}
        }
      ],
      "source": [
        "#Plot de gráfico de acurácia de treino/teste a partir do histórico\n",
        "loss_df.loc[:,['accuracy','val_accuracy']].plot()\n"
      ]
    },
    {
      "cell_type": "code",
      "execution_count": null,
      "metadata": {
        "colab": {
          "base_uri": "https://localhost:8080/",
          "height": 466
        },
        "id": "CFzuqI_sz_Nh",
        "outputId": "92901fbf-03b6-4322-94dd-e83330400ac6"
      },
      "outputs": [
        {
          "output_type": "execute_result",
          "data": {
            "text/plain": [
              "<sklearn.metrics._plot.confusion_matrix.ConfusionMatrixDisplay at 0x7fc7a89335e0>"
            ]
          },
          "metadata": {},
          "execution_count": 65
        },
        {
          "output_type": "display_data",
          "data": {
            "text/plain": [
              "<Figure size 640x480 with 2 Axes>"
            ],
            "image/png": "[encoded data removed]"
          },
          "metadata": {}
        }
      ],
      "source": [
        "#Matriz de confusão a partir da predição de Y\n",
        "cm = confusion_matrix(y_test, y_pred)\n",
        "ConfusionMatrixDisplay(cm).plot()"
      ]
    },
    {
      "cell_type": "markdown",
      "metadata": {
        "id": "UvYk0-eL_47J"
      },
      "source": [
        "##Random Forest Sem Cabin"
      ]
    },
    {
      "cell_type": "code",
      "execution_count": null,
      "metadata": {
        "id": "2D5uO5Ko_8Q1"
      },
      "outputs": [],
      "source": [
        "#Retirando coluna Cabin\n",
        "df2=df2.drop(columns='Cabin',axis=1)"
      ]
    },
    {
      "cell_type": "markdown",
      "metadata": {
        "id": "5ujzDOOCETDP"
      },
      "source": [
        "###Pré Processamento"
      ]
    },
    {
      "cell_type": "code",
      "execution_count": null,
      "metadata": {
        "id": "5TIGMDRqEVeD"
      },
      "outputs": [],
      "source": [
        "#Transformar coluna Sex de categórico para numérico\n",
        "from sklearn.preprocessing import LabelEncoder\n",
        "\n",
        "labelencoder = LabelEncoder()\n",
        "df2[[\"Sex\"]] = \\\n",
        "df2[[\"Sex\"]].apply(labelencoder.fit_transform)"
      ]
    },
    {
      "cell_type": "code",
      "execution_count": null,
      "metadata": {
        "colab": {
          "base_uri": "https://localhost:8080/"
        },
        "id": "iuZES-zXEgNR",
        "outputId": "7ddffeb7-c514-42d6-f330-1a0c2a17b534"
      },
      "outputs": [
        {
          "output_type": "execute_result",
          "data": {
            "text/plain": [
              "Survived              0\n",
              "Pclass                0\n",
              "Sex                   0\n",
              "Age                   0\n",
              "SibSp                 0\n",
              "                     ..\n",
              "Ticket_W./C. 6608     0\n",
              "Ticket_W./C. 6609     0\n",
              "Ticket_W.E.P. 5734    0\n",
              "Ticket_W/C 14208      0\n",
              "Ticket_WE/P 5735      0\n",
              "Length: 691, dtype: int64"
            ]
          },
          "metadata": {},
          "execution_count": 68
        }
      ],
      "source": [
        "#Checagem de nulos\n",
        "df2.isna().sum()"
      ]
    },
    {
      "cell_type": "markdown",
      "metadata": {
        "id": "YK9h2pWEE4XR"
      },
      "source": [
        "###Normalização"
      ]
    },
    {
      "cell_type": "code",
      "execution_count": null,
      "metadata": {
        "id": "XcqcBCnPFDQM"
      },
      "outputs": [],
      "source": [
        "#Normalizar colunas Age e Fare\n",
        "std=StandardScaler()\n",
        "columns = ['Age', 'Fare']\n",
        "scaled = std.fit_transform(df2[['Age', 'Fare']])\n",
        "scaled = pd.DataFrame(scaled,columns=columns)\n",
        "d2=df2.drop(columns=columns,axis=1)"
      ]
    },
    {
      "cell_type": "code",
      "execution_count": null,
      "metadata": {
        "colab": {
          "base_uri": "https://localhost:8080/",
          "height": 505
        },
        "id": "M5Udzxq1FDfi",
        "outputId": "2301e662-5412-427e-9cab-f5e8dc296fa9"
      },
      "outputs": [
        {
          "output_type": "execute_result",
          "data": {
            "text/plain": [
              "     Survived  Pclass  Sex  Age_x  SibSp  Parch   Fare_x  Embarked_C  \\\n",
              "0           0       3    1   22.0      1      0   7.2500           0   \n",
              "1           1       1    0   38.0      1      0  71.2833           1   \n",
              "2           1       3    0   26.0      0      0   7.9250           0   \n",
              "3           1       1    0   35.0      1      0  53.1000           0   \n",
              "4           0       3    1   35.0      0      0   8.0500           0   \n",
              "..        ...     ...  ...    ...    ...    ...      ...         ...   \n",
              "886         0       2    1   27.0      0      0  13.0000           0   \n",
              "887         1       1    0   19.0      0      0  30.0000           0   \n",
              "888         0       3    0   28.0      1      2  23.4500           0   \n",
              "889         1       1    1   26.0      0      0  30.0000           1   \n",
              "890         0       3    1   32.0      0      0   7.7500           0   \n",
              "\n",
              "     Embarked_Q  Embarked_S  ...  Ticket_W./C. 14258  Ticket_W./C. 14263  \\\n",
              "0             0           1  ...                   0                   0   \n",
              "1             0           0  ...                   0                   0   \n",
              "2             0           1  ...                   0                   0   \n",
              "3             0           1  ...                   0                   0   \n",
              "4             0           1  ...                   0                   0   \n",
              "..          ...         ...  ...                 ...                 ...   \n",
              "886           0           1  ...                   0                   0   \n",
              "887           0           1  ...                   0                   0   \n",
              "888           0           1  ...                   0                   0   \n",
              "889           0           0  ...                   0                   0   \n",
              "890           1           0  ...                   0                   0   \n",
              "\n",
              "     Ticket_W./C. 6607  Ticket_W./C. 6608  Ticket_W./C. 6609  \\\n",
              "0                    0                  0                  0   \n",
              "1                    0                  0                  0   \n",
              "2                    0                  0                  0   \n",
              "3                    0                  0                  0   \n",
              "4                    0                  0                  0   \n",
              "..                 ...                ...                ...   \n",
              "886                  0                  0                  0   \n",
              "887                  0                  0                  0   \n",
              "888                  1                  0                  0   \n",
              "889                  0                  0                  0   \n",
              "890                  0                  0                  0   \n",
              "\n",
              "     Ticket_W.E.P. 5734  Ticket_W/C 14208  Ticket_WE/P 5735     Age_y  \\\n",
              "0                     0                 0                 0 -0.565736   \n",
              "1                     0                 0                 0  0.663861   \n",
              "2                     0                 0                 0 -0.258337   \n",
              "3                     0                 0                 0  0.433312   \n",
              "4                     0                 0                 0  0.433312   \n",
              "..                  ...               ...               ...       ...   \n",
              "886                   0                 0                 0 -0.181487   \n",
              "887                   0                 0                 0 -0.796286   \n",
              "888                   0                 0                 0 -0.104637   \n",
              "889                   0                 0                 0 -0.258337   \n",
              "890                   0                 0                 0  0.202762   \n",
              "\n",
              "       Fare_y  \n",
              "0   -0.502445  \n",
              "1    0.786845  \n",
              "2   -0.488854  \n",
              "3    0.420730  \n",
              "4   -0.486337  \n",
              "..        ...  \n",
              "886 -0.386671  \n",
              "887 -0.044381  \n",
              "888 -0.176263  \n",
              "889 -0.044381  \n",
              "890 -0.492378  \n",
              "\n",
              "[891 rows x 693 columns]"
            ],
            "text/html": [
              "\n",
              "  <div id=\"df-9e4e51ff-7a3c-4b69-a2a4-a2aff1753859\">\n",
              "    <div class=\"colab-df-container\">\n",
              "      <div>\n",
              "<style scoped>\n",
              "    .dataframe tbody tr th:only-of-type {\n",
              "        vertical-align: middle;\n",
              "    }\n",
              "\n",
              "    .dataframe tbody tr th {\n",
              "        vertical-align: top;\n",
              "    }\n",
              "\n",
              "    .dataframe thead th {\n",
              "        text-align: right;\n",
              "    }\n",
              "</style>\n",
              "<table border=\"1\" class=\"dataframe\">\n",
              "  <thead>\n",
              "    <tr style=\"text-align: right;\">\n",
              "      <th></th>\n",
              "      <th>Survived</th>\n",
              "      <th>Pclass</th>\n",
              "      <th>Sex</th>\n",
              "      <th>Age_x</th>\n",
              "      <th>SibSp</th>\n",
              "      <th>Parch</th>\n",
              "      <th>Fare_x</th>\n",
              "      <th>Embarked_C</th>\n",
              "      <th>Embarked_Q</th>\n",
              "      <th>Embarked_S</th>\n",
              "      <th>...</th>\n",
              "      <th>Ticket_W./C. 14258</th>\n",
              "      <th>Ticket_W./C. 14263</th>\n",
              "      <th>Ticket_W./C. 6607</th>\n",
              "      <th>Ticket_W./C. 6608</th>\n",
              "      <th>Ticket_W./C. 6609</th>\n",
              "      <th>Ticket_W.E.P. 5734</th>\n",
              "      <th>Ticket_W/C 14208</th>\n",
              "      <th>Ticket_WE/P 5735</th>\n",
              "      <th>Age_y</th>\n",
              "      <th>Fare_y</th>\n",
              "    </tr>\n",
              "  </thead>\n",
              "  <tbody>\n",
              "    <tr>\n",
              "      <th>0</th>\n",
              "      <td>0</td>\n",
              "      <td>3</td>\n",
              "      <td>1</td>\n",
              "      <td>22.0</td>\n",
              "      <td>1</td>\n",
              "      <td>0</td>\n",
              "      <td>7.2500</td>\n",
              "      <td>0</td>\n",
              "      <td>0</td>\n",
              "      <td>1</td>\n",
              "      <td>...</td>\n",
              "      <td>0</td>\n",
              "      <td>0</td>\n",
              "      <td>0</td>\n",
              "      <td>0</td>\n",
              "      <td>0</td>\n",
              "      <td>0</td>\n",
              "      <td>0</td>\n",
              "      <td>0</td>\n",
              "      <td>-0.565736</td>\n",
              "      <td>-0.502445</td>\n",
              "    </tr>\n",
              "    <tr>\n",
              "      <th>1</th>\n",
              "      <td>1</td>\n",
              "      <td>1</td>\n",
              "      <td>0</td>\n",
              "      <td>38.0</td>\n",
              "      <td>1</td>\n",
              "      <td>0</td>\n",
              "      <td>71.2833</td>\n",
              "      <td>1</td>\n",
              "      <td>0</td>\n",
              "      <td>0</td>\n",
              "      <td>...</td>\n",
              "      <td>0</td>\n",
              "      <td>0</td>\n",
              "      <td>0</td>\n",
              "      <td>0</td>\n",
              "      <td>0</td>\n",
              "      <td>0</td>\n",
              "      <td>0</td>\n",
              "      <td>0</td>\n",
              "      <td>0.663861</td>\n",
              "      <td>0.786845</td>\n",
              "    </tr>\n",
              "    <tr>\n",
              "      <th>2</th>\n",
              "      <td>1</td>\n",
              "      <td>3</td>\n",
              "      <td>0</td>\n",
              "      <td>26.0</td>\n",
              "      <td>0</td>\n",
              "      <td>0</td>\n",
              "      <td>7.9250</td>\n",
              "      <td>0</td>\n",
              "      <td>0</td>\n",
              "      <td>1</td>\n",
              "      <td>...</td>\n",
              "      <td>0</td>\n",
              "      <td>0</td>\n",
              "      <td>0</td>\n",
              "      <td>0</td>\n",
              "      <td>0</td>\n",
              "      <td>0</td>\n",
              "      <td>0</td>\n",
              "      <td>0</td>\n",
              "      <td>-0.258337</td>\n",
              "      <td>-0.488854</td>\n",
              "    </tr>\n",
              "    <tr>\n",
              "      <th>3</th>\n",
              "      <td>1</td>\n",
              "      <td>1</td>\n",
              "      <td>0</td>\n",
              "      <td>35.0</td>\n",
              "      <td>1</td>\n",
              "      <td>0</td>\n",
              "      <td>53.1000</td>\n",
              "      <td>0</td>\n",
              "      <td>0</td>\n",
              "      <td>1</td>\n",
              "      <td>...</td>\n",
              "      <td>0</td>\n",
              "      <td>0</td>\n",
              "      <td>0</td>\n",
              "      <td>0</td>\n",
              "      <td>0</td>\n",
              "      <td>0</td>\n",
              "      <td>0</td>\n",
              "      <td>0</td>\n",
              "      <td>0.433312</td>\n",
              "      <td>0.420730</td>\n",
              "    </tr>\n",
              "    <tr>\n",
              "      <th>4</th>\n",
              "      <td>0</td>\n",
              "      <td>3</td>\n",
              "      <td>1</td>\n",
              "      <td>35.0</td>\n",
              "      <td>0</td>\n",
              "      <td>0</td>\n",
              "      <td>8.0500</td>\n",
              "      <td>0</td>\n",
              "      <td>0</td>\n",
              "      <td>1</td>\n",
              "      <td>...</td>\n",
              "      <td>0</td>\n",
              "      <td>0</td>\n",
              "      <td>0</td>\n",
              "      <td>0</td>\n",
              "      <td>0</td>\n",
              "      <td>0</td>\n",
              "      <td>0</td>\n",
              "      <td>0</td>\n",
              "      <td>0.433312</td>\n",
              "      <td>-0.486337</td>\n",
              "    </tr>\n",
              "    <tr>\n",
              "      <th>...</th>\n",
              "      <td>...</td>\n",
              "      <td>...</td>\n",
              "      <td>...</td>\n",
              "      <td>...</td>\n",
              "      <td>...</td>\n",
              "      <td>...</td>\n",
              "      <td>...</td>\n",
              "      <td>...</td>\n",
              "      <td>...</td>\n",
              "      <td>...</td>\n",
              "      <td>...</td>\n",
              "      <td>...</td>\n",
              "      <td>...</td>\n",
              "      <td>...</td>\n",
              "      <td>...</td>\n",
              "      <td>...</td>\n",
              "      <td>...</td>\n",
              "      <td>...</td>\n",
              "      <td>...</td>\n",
              "      <td>...</td>\n",
              "      <td>...</td>\n",
              "    </tr>\n",
              "    <tr>\n",
              "      <th>886</th>\n",
              "      <td>0</td>\n",
              "      <td>2</td>\n",
              "      <td>1</td>\n",
              "      <td>27.0</td>\n",
              "      <td>0</td>\n",
              "      <td>0</td>\n",
              "      <td>13.0000</td>\n",
              "      <td>0</td>\n",
              "      <td>0</td>\n",
              "      <td>1</td>\n",
              "      <td>...</td>\n",
              "      <td>0</td>\n",
              "      <td>0</td>\n",
              "      <td>0</td>\n",
              "      <td>0</td>\n",
              "      <td>0</td>\n",
              "      <td>0</td>\n",
              "      <td>0</td>\n",
              "      <td>0</td>\n",
              "      <td>-0.181487</td>\n",
              "      <td>-0.386671</td>\n",
              "    </tr>\n",
              "    <tr>\n",
              "      <th>887</th>\n",
              "      <td>1</td>\n",
              "      <td>1</td>\n",
              "      <td>0</td>\n",
              "      <td>19.0</td>\n",
              "      <td>0</td>\n",
              "      <td>0</td>\n",
              "      <td>30.0000</td>\n",
              "      <td>0</td>\n",
              "      <td>0</td>\n",
              "      <td>1</td>\n",
              "      <td>...</td>\n",
              "      <td>0</td>\n",
              "      <td>0</td>\n",
              "      <td>0</td>\n",
              "      <td>0</td>\n",
              "      <td>0</td>\n",
              "      <td>0</td>\n",
              "      <td>0</td>\n",
              "      <td>0</td>\n",
              "      <td>-0.796286</td>\n",
              "      <td>-0.044381</td>\n",
              "    </tr>\n",
              "    <tr>\n",
              "      <th>888</th>\n",
              "      <td>0</td>\n",
              "      <td>3</td>\n",
              "      <td>0</td>\n",
              "      <td>28.0</td>\n",
              "      <td>1</td>\n",
              "      <td>2</td>\n",
              "      <td>23.4500</td>\n",
              "      <td>0</td>\n",
              "      <td>0</td>\n",
              "      <td>1</td>\n",
              "      <td>...</td>\n",
              "      <td>0</td>\n",
              "      <td>0</td>\n",
              "      <td>1</td>\n",
              "      <td>0</td>\n",
              "      <td>0</td>\n",
              "      <td>0</td>\n",
              "      <td>0</td>\n",
              "      <td>0</td>\n",
              "      <td>-0.104637</td>\n",
              "      <td>-0.176263</td>\n",
              "    </tr>\n",
              "    <tr>\n",
              "      <th>889</th>\n",
              "      <td>1</td>\n",
              "      <td>1</td>\n",
              "      <td>1</td>\n",
              "      <td>26.0</td>\n",
              "      <td>0</td>\n",
              "      <td>0</td>\n",
              "      <td>30.0000</td>\n",
              "      <td>1</td>\n",
              "      <td>0</td>\n",
              "      <td>0</td>\n",
              "      <td>...</td>\n",
              "      <td>0</td>\n",
              "      <td>0</td>\n",
              "      <td>0</td>\n",
              "      <td>0</td>\n",
              "      <td>0</td>\n",
              "      <td>0</td>\n",
              "      <td>0</td>\n",
              "      <td>0</td>\n",
              "      <td>-0.258337</td>\n",
              "      <td>-0.044381</td>\n",
              "    </tr>\n",
              "    <tr>\n",
              "      <th>890</th>\n",
              "      <td>0</td>\n",
              "      <td>3</td>\n",
              "      <td>1</td>\n",
              "      <td>32.0</td>\n",
              "      <td>0</td>\n",
              "      <td>0</td>\n",
              "      <td>7.7500</td>\n",
              "      <td>0</td>\n",
              "      <td>1</td>\n",
              "      <td>0</td>\n",
              "      <td>...</td>\n",
              "      <td>0</td>\n",
              "      <td>0</td>\n",
              "      <td>0</td>\n",
              "      <td>0</td>\n",
              "      <td>0</td>\n",
              "      <td>0</td>\n",
              "      <td>0</td>\n",
              "      <td>0</td>\n",
              "      <td>0.202762</td>\n",
              "      <td>-0.492378</td>\n",
              "    </tr>\n",
              "  </tbody>\n",
              "</table>\n",
              "<p>891 rows × 693 columns</p>\n",
              "</div>\n",
              "      <button class=\"colab-df-convert\" onclick=\"convertToInteractive('df-9e4e51ff-7a3c-4b69-a2a4-a2aff1753859')\"\n",
              "              title=\"Convert this dataframe to an interactive table.\"\n",
              "              style=\"display:none;\">\n",
              "        \n",
              "  <svg xmlns=\"http://www.w3.org/2000/svg\" height=\"24px\"viewBox=\"0 0 24 24\"\n",
              "       width=\"24px\">\n",
              "    <path d=\"M0 0h24v24H0V0z\" fill=\"none\"/>\n",
              "    <path d=\"M18.56 5.44l.94 2.06.94-2.06 2.06-.94-2.06-.94-.94-2.06-.94 2.06-2.06.94zm-11 1L8.5 8.5l.94-2.06 2.06-.94-2.06-.94L8.5 2.5l-.94 2.06-2.06.94zm10 10l.94 2.06.94-2.06 2.06-.94-2.06-.94-.94-2.06-.94 2.06-2.06.94z\"/><path d=\"M17.41 7.96l-1.37-1.37c-.4-.4-.92-.59-1.43-.59-.52 0-1.04.2-1.43.59L10.3 9.45l-7.72 7.72c-.78.78-.78 2.05 0 2.83L4 21.41c.39.39.9.59 1.41.59.51 0 1.02-.2 1.41-.59l7.78-7.78 2.81-2.81c.8-.78.8-2.07 0-2.86zM5.41 20L4 18.59l7.72-7.72 1.47 1.35L5.41 20z\"/>\n",
              "  </svg>\n",
              "      </button>\n",
              "      \n",
              "  <style>\n",
              "    .colab-df-container {\n",
              "      display:flex;\n",
              "      flex-wrap:wrap;\n",
              "      gap: 12px;\n",
              "    }\n",
              "\n",
              "    .colab-df-convert {\n",
              "      background-color: #E8F0FE;\n",
              "      border: none;\n",
              "      border-radius: 50%;\n",
              "      cursor: pointer;\n",
              "      display: none;\n",
              "      fill: #1967D2;\n",
              "      height: 32px;\n",
              "      padding: 0 0 0 0;\n",
              "      width: 32px;\n",
              "    }\n",
              "\n",
              "    .colab-df-convert:hover {\n",
              "      background-color: #E2EBFA;\n",
              "      box-shadow: 0px 1px 2px rgba(60, 64, 67, 0.3), 0px 1px 3px 1px rgba(60, 64, 67, 0.15);\n",
              "      fill: #174EA6;\n",
              "    }\n",
              "\n",
              "    [theme=dark] .colab-df-convert {\n",
              "      background-color: #3B4455;\n",
              "      fill: #D2E3FC;\n",
              "    }\n",
              "\n",
              "    [theme=dark] .colab-df-convert:hover {\n",
              "      background-color: #434B5C;\n",
              "      box-shadow: 0px 1px 3px 1px rgba(0, 0, 0, 0.15);\n",
              "      filter: drop-shadow(0px 1px 2px rgba(0, 0, 0, 0.3));\n",
              "      fill: #FFFFFF;\n",
              "    }\n",
              "  </style>\n",
              "\n",
              "      <script>\n",
              "        const buttonEl =\n",
              "          document.querySelector('#df-9e4e51ff-7a3c-4b69-a2a4-a2aff1753859 button.colab-df-convert');\n",
              "        buttonEl.style.display =\n",
              "          google.colab.kernel.accessAllowed ? 'block' : 'none';\n",
              "\n",
              "        async function convertToInteractive(key) {\n",
              "          const element = document.querySelector('#df-9e4e51ff-7a3c-4b69-a2a4-a2aff1753859');\n",
              "          const dataTable =\n",
              "            await google.colab.kernel.invokeFunction('convertToInteractive',\n",
              "                                                     [key], {});\n",
              "          if (!dataTable) return;\n",
              "\n",
              "          const docLinkHtml = 'Like what you see? Visit the ' +\n",
              "            '<a target=\"_blank\" href=https://colab.research.google.com/notebooks/data_table.ipynb>data table notebook</a>'\n",
              "            + ' to learn more about interactive tables.';\n",
              "          element.innerHTML = '';\n",
              "          dataTable['output_type'] = 'display_data';\n",
              "          await google.colab.output.renderOutput(dataTable, element);\n",
              "          const docLink = document.createElement('div');\n",
              "          docLink.innerHTML = docLinkHtml;\n",
              "          element.appendChild(docLink);\n",
              "        }\n",
              "      </script>\n",
              "    </div>\n",
              "  </div>\n",
              "  "
            ]
          },
          "metadata": {},
          "execution_count": 70
        }
      ],
      "source": [
        "#Adicionar colunas normalizas ao dataset\n",
        "df2=df2.merge(scaled, left_index=True, right_index=True, how = \"right\")\n",
        "df2"
      ]
    },
    {
      "cell_type": "markdown",
      "metadata": {
        "id": "ZbJkhdlOFG_X"
      },
      "source": [
        "###Separação Treino Teste"
      ]
    },
    {
      "cell_type": "code",
      "execution_count": null,
      "metadata": {
        "id": "ItcNGaU2FJEu"
      },
      "outputs": [],
      "source": [
        "#Retirada da coluna de resultado\n",
        "X = df2.drop(['Survived'], axis=1).values\n",
        "y = df2['Survived'].values"
      ]
    },
    {
      "cell_type": "code",
      "execution_count": null,
      "metadata": {
        "id": "Z1PmPqFxFJHi"
      },
      "outputs": [],
      "source": [
        "#Separação em 70% treino e 30% teste\n",
        "X_train, X_test, y_train, y_test = train_test_split(X, y, test_size=0.3)"
      ]
    },
    {
      "cell_type": "markdown",
      "metadata": {
        "id": "Y9vMWgThFLrl"
      },
      "source": [
        "###Balanceamento de Classes"
      ]
    },
    {
      "cell_type": "code",
      "execution_count": null,
      "metadata": {
        "id": "4Wb343rpFOzW"
      },
      "outputs": [],
      "source": [
        "from imblearn.over_sampling import SMOTE"
      ]
    },
    {
      "cell_type": "code",
      "execution_count": null,
      "metadata": {
        "id": "ZtrnYHuLFP7t"
      },
      "outputs": [],
      "source": [
        "#Aplicar balanceamento de classes\n",
        "sm = SMOTE()\n",
        "x_train_oversampled, y_train_oversampled = sm.fit_resample(X_train, y_train)"
      ]
    },
    {
      "cell_type": "code",
      "execution_count": null,
      "metadata": {
        "colab": {
          "base_uri": "https://localhost:8080/"
        },
        "id": "pZWkEBtbFREO",
        "outputId": "1b9feb84-a9c7-4aef-e73c-aa94c0bd225b"
      },
      "outputs": [
        {
          "output_type": "stream",
          "name": "stdout",
          "text": [
            "(766, 692)\n",
            "(623, 692)\n"
          ]
        }
      ],
      "source": [
        "#Checagem se classes estão balanceadas\n",
        "print(x_train_oversampled.shape)\n",
        "print(X_train.shape)"
      ]
    },
    {
      "cell_type": "markdown",
      "metadata": {
        "id": "ckA_iX8OEV70"
      },
      "source": [
        "###Random Forest"
      ]
    },
    {
      "cell_type": "code",
      "execution_count": null,
      "metadata": {
        "id": "3Oud7z4c_8OX"
      },
      "outputs": [],
      "source": [
        "#Parametros Utilizados\n",
        "forest = RandomForestClassifier()\n",
        "param_grid = {'criterion': ['gini', 'entropy', 'log_loss'],\n",
        "              'max_features':['sqrt','log2'],\n",
        "              'n_estimators': [10, 20, 30, 60]}"
      ]
    },
    {
      "cell_type": "code",
      "execution_count": null,
      "metadata": {
        "id": "7FQt45vG_8Lu"
      },
      "outputs": [],
      "source": [
        "#Declaração GridSearch\n",
        "g_search = GridSearchCV(estimator = forest, param_grid = param_grid, refit = True,\n",
        "                        cv = 10, return_train_score=True)"
      ]
    },
    {
      "cell_type": "code",
      "execution_count": null,
      "metadata": {
        "colab": {
          "base_uri": "https://localhost:8080/"
        },
        "id": "RhLXGGEZ_8GN",
        "outputId": "442843fa-ba3a-4dc5-fa17-accea42906ac"
      },
      "outputs": [
        {
          "output_type": "stream",
          "name": "stdout",
          "text": [
            "RandomForestClassifier(n_estimators=20)\n"
          ]
        }
      ],
      "source": [
        "#Realização do treinamento\n",
        "g_search.fit(x_train_oversampled, y_train_oversampled);\n",
        "print(g_search.best_estimator_)"
      ]
    },
    {
      "cell_type": "code",
      "execution_count": null,
      "metadata": {
        "id": "3kFZ-K3a_8Dj"
      },
      "outputs": [],
      "source": [
        "y_pred = g_search.predict(X_test)"
      ]
    },
    {
      "cell_type": "code",
      "execution_count": null,
      "metadata": {
        "id": "C0cuox2A_77_"
      },
      "outputs": [],
      "source": [
        "#Carregar dados GridSeach em dataframe\n",
        "g_results =  pd.DataFrame(g_search.cv_results_)"
      ]
    },
    {
      "cell_type": "code",
      "execution_count": null,
      "metadata": {
        "colab": {
          "base_uri": "https://localhost:8080/"
        },
        "id": "BoU1rv7WATv8",
        "outputId": "ac4c3950-91ff-43d6-d34a-154905752818"
      },
      "outputs": [
        {
          "output_type": "execute_result",
          "data": {
            "text/plain": [
              "dict_keys(['mean_fit_time', 'std_fit_time', 'mean_score_time', 'std_score_time', 'param_criterion', 'param_max_features', 'param_n_estimators', 'params', 'split0_test_score', 'split1_test_score', 'split2_test_score', 'split3_test_score', 'split4_test_score', 'split5_test_score', 'split6_test_score', 'split7_test_score', 'split8_test_score', 'split9_test_score', 'mean_test_score', 'std_test_score', 'rank_test_score', 'split0_train_score', 'split1_train_score', 'split2_train_score', 'split3_train_score', 'split4_train_score', 'split5_train_score', 'split6_train_score', 'split7_train_score', 'split8_train_score', 'split9_train_score', 'mean_train_score', 'std_train_score'])"
            ]
          },
          "metadata": {},
          "execution_count": 81
        }
      ],
      "source": [
        "#Atributos GridSeash\n",
        "g_search.cv_results_.keys()"
      ]
    },
    {
      "cell_type": "code",
      "execution_count": null,
      "metadata": {
        "colab": {
          "base_uri": "https://localhost:8080/"
        },
        "id": "qlYOME6eATsq",
        "outputId": "1747db96-cc4d-4ea3-b943-ccc270bfa1ae"
      },
      "outputs": [
        {
          "output_type": "execute_result",
          "data": {
            "text/plain": [
              "0.8696684894053316"
            ]
          },
          "metadata": {},
          "execution_count": 82
        }
      ],
      "source": [
        "#Acurácia média em 10 folds no treino\n",
        "acTrainRFC = g_results.loc[g_search.best_index_,'mean_test_score']\n",
        "g_results.loc[g_search.best_index_,'mean_test_score']"
      ]
    },
    {
      "cell_type": "code",
      "execution_count": null,
      "metadata": {
        "colab": {
          "base_uri": "https://localhost:8080/"
        },
        "id": "CK4g_UXUATo-",
        "outputId": "9276e011-f1dd-4382-9a0f-7eaa3c69c9f0"
      },
      "outputs": [
        {
          "output_type": "execute_result",
          "data": {
            "text/plain": [
              "0.8283582089552238"
            ]
          },
          "metadata": {},
          "execution_count": 83
        }
      ],
      "source": [
        "# Avalia o conjunto teste  com o melhor conjunto de parâmetros encontrado\n",
        "model = g_search.best_estimator_\n",
        "acTestRFC = model.score(X_test,y_test)\n",
        "model.score(X_test,y_test)"
      ]
    },
    {
      "cell_type": "code",
      "execution_count": null,
      "metadata": {
        "colab": {
          "base_uri": "https://localhost:8080/",
          "height": 466
        },
        "id": "2aref87DATk5",
        "outputId": "c2c6d86c-822d-49fc-a771-4f9a7e5d0f55"
      },
      "outputs": [
        {
          "output_type": "execute_result",
          "data": {
            "text/plain": [
              "<sklearn.metrics._plot.confusion_matrix.ConfusionMatrixDisplay at 0x7fc8119bd660>"
            ]
          },
          "metadata": {},
          "execution_count": 84
        },
        {
          "output_type": "display_data",
          "data": {
            "text/plain": [
              "<Figure size 640x480 with 2 Axes>"
            ],
            "image/png": "[encoded data removed]"
          },
          "metadata": {}
        }
      ],
      "source": [
        "#Matriz de confusão a partir da predição de Y\n",
        "cm = confusion_matrix(y_test, y_pred)\n",
        "ConfusionMatrixDisplay(cm).plot()"
      ]
    },
    {
      "cell_type": "markdown",
      "metadata": {
        "id": "x0kqoi_O5b5W"
      },
      "source": [
        "##Tabulação dos Dados"
      ]
    },
    {
      "cell_type": "markdown",
      "metadata": {
        "id": "K2-exTZr5jDm"
      },
      "source": [
        "###Random forest"
      ]
    },
    {
      "cell_type": "code",
      "execution_count": null,
      "metadata": {
        "colab": {
          "base_uri": "https://localhost:8080/"
        },
        "id": "OudtnWA35pms",
        "outputId": "30801c97-cc14-4304-8d98-41b931cf3184"
      },
      "outputs": [
        {
          "output_type": "stream",
          "name": "stdout",
          "text": [
            "Acurácia de Treino Random Forest:  0.8877788877788877\n",
            "Acurácia de Teste Random Forest:  0.8246268656716418\n"
          ]
        }
      ],
      "source": [
        "print (\"Acurácia de Treino Random Forest: \" , acTrainRF)\n",
        "print (\"Acurácia de Teste Random Forest: \" , acTestRF)"
      ]
    },
    {
      "cell_type": "markdown",
      "metadata": {
        "id": "AFe847Q65lKY"
      },
      "source": [
        "###KNN"
      ]
    },
    {
      "cell_type": "code",
      "execution_count": null,
      "metadata": {
        "colab": {
          "base_uri": "https://localhost:8080/"
        },
        "id": "ydV8erZj5qZJ",
        "outputId": "c20651f3-05cb-47d7-adda-77e85fa62ba6"
      },
      "outputs": [
        {
          "output_type": "stream",
          "name": "stdout",
          "text": [
            "Acurácia de Treino KNN:  0.8358974358974359\n",
            "Acurácia de Teste KNN:  0.7611940298507462\n"
          ]
        }
      ],
      "source": [
        "print (\"Acurácia de Treino KNN: \" , acTrainKNN)\n",
        "print (\"Acurácia de Teste KNN: \" , acTestKNN)"
      ]
    },
    {
      "cell_type": "markdown",
      "metadata": {
        "id": "AiDwP__B5rSn"
      },
      "source": [
        "###Arvore de decisão"
      ]
    },
    {
      "cell_type": "code",
      "execution_count": null,
      "metadata": {
        "colab": {
          "base_uri": "https://localhost:8080/"
        },
        "id": "OHTKyY5Q5tG0",
        "outputId": "adb48940-7427-4540-95d2-d99e0a08a5ae"
      },
      "outputs": [
        {
          "output_type": "stream",
          "name": "stdout",
          "text": [
            "Acurácia de Treino Arvore de Decisão:  0.817982017982018\n",
            "Acurácia de Teste Arvore de Decisão:  0.8134328358208955\n"
          ]
        }
      ],
      "source": [
        "print (\"Acurácia de Treino Arvore de Decisão: \" , acTrainDT)\n",
        "print (\"Acurácia de Teste Arvore de Decisão: \" , acTestDT)"
      ]
    },
    {
      "cell_type": "markdown",
      "metadata": {
        "id": "eiOh6iav5uuN"
      },
      "source": [
        "###Scikit"
      ]
    },
    {
      "cell_type": "code",
      "execution_count": null,
      "metadata": {
        "colab": {
          "base_uri": "https://localhost:8080/"
        },
        "id": "FmBnHvSi5wmW",
        "outputId": "780528ae-7974-49bb-dd96-d01e8a825a3f"
      },
      "outputs": [
        {
          "output_type": "stream",
          "name": "stdout",
          "text": [
            "Acurácia de Treino Scikit:  0.8955377955377954\n",
            "Acurácia de TesteScikit:  0.832089552238806\n"
          ]
        }
      ],
      "source": [
        "print (\"Acurácia de Treino Scikit: \" , acTrainSCI)\n",
        "print (\"Acurácia de TesteScikit: \" , acTestSCI)"
      ]
    },
    {
      "cell_type": "markdown",
      "metadata": {
        "id": "4BlRodv95xJL"
      },
      "source": [
        "###Keras"
      ]
    },
    {
      "cell_type": "code",
      "execution_count": null,
      "metadata": {
        "colab": {
          "base_uri": "https://localhost:8080/"
        },
        "id": "KZR9oO7m5yjj",
        "outputId": "39dffbf7-1d51-45aa-936c-5be52c0e42f6"
      },
      "outputs": [
        {
          "output_type": "stream",
          "name": "stdout",
          "text": [
            "Acurácia de Treino Keras: 0.995184600353241\n",
            "Acurácia de Teste Keras:  0.832089552238806\n"
          ]
        }
      ],
      "source": [
        "print (\"Acurácia de Treino Keras:\", acTrainKer)\n",
        "print (\"Acurácia de Teste Keras: \" , acTestK)"
      ]
    },
    {
      "cell_type": "markdown",
      "metadata": {
        "id": "3VR-zN3P5zAt"
      },
      "source": [
        "###Random Forest sem coluna Cabin"
      ]
    },
    {
      "cell_type": "code",
      "execution_count": null,
      "metadata": {
        "colab": {
          "base_uri": "https://localhost:8080/"
        },
        "id": "gxyjXmRf51_s",
        "outputId": "d0405684-6b44-447f-85d6-f6cb66404e43"
      },
      "outputs": [
        {
          "output_type": "stream",
          "name": "stdout",
          "text": [
            "Acurácia de Treino Random Forest Sem Cabin:  0.8696684894053316\n",
            "Acurácia de Treino Random Forest Sem Cabin:  0.8283582089552238\n"
          ]
        }
      ],
      "source": [
        "print (\"Acurácia de Treino Random Forest Sem Cabin: \" , acTrainRFC)\n",
        "print (\"Acurácia de Treino Random Forest Sem Cabin: \" , acTestRFC)"
      ]
    }
  ],
  "metadata": {
    "colab": {
      "provenance": []
    },
    "kernelspec": {
      "display_name": "Python 3",
      "name": "python3"
    },
    "language_info": {
      "name": "python"
    }
  },
  "nbformat": 4,
  "nbformat_minor": 0
}