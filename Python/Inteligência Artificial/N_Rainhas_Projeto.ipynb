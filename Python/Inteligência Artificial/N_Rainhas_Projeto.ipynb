{
  "nbformat": 4,
  "nbformat_minor": 0,
  "metadata": {
    "colab": {
      "provenance": []
    },
    "kernelspec": {
      "name": "python3",
      "display_name": "Python 3"
    },
    "language_info": {
      "name": "python"
    }
  },
  "cells": [
    {
      "cell_type": "markdown",
      "source": [
        "# **Projeto Algoritmos Genéticos**\n",
        "## Problema N-rainhas\n",
        "### - Posicionar as *N* rainhas no tabuleiro sem que uma elimine a outra, ou seja, as peças não podem estar na mesma linha, coluna ou diagonal.\n",
        "### - Especificações:\n",
        "\n",
        "\n",
        "*   Quantidade de rainhas\n",
        "*   Taxas: Mutação e Cruzamento\n",
        "*   Tamanhos: população, eletismo e seleção\n",
        "*   Critério de parada: Número de iterações e ou solução ótima\n",
        "\n"
      ],
      "metadata": {
        "id": "ZmE_eTT-7L_w"
      }
    },
    {
      "cell_type": "code",
      "source": [
        "#Gustavo Luiz Conceição Zago RA: 2268221 // Giovanni Henrique Munhoz De Lion Siervo RA: 2144255"
      ],
      "metadata": {
        "id": "JhIysXt5fan3"
      },
      "execution_count": null,
      "outputs": []
    },
    {
      "cell_type": "code",
      "execution_count": null,
      "metadata": {
        "id": "EONlAxWCntgf"
      },
      "outputs": [],
      "source": [
        "from numpy.random import *\n"
      ]
    },
    {
      "cell_type": "code",
      "source": [
        "#População gerada aleatoriamente\n",
        "# size: tamanho do cromossomo\n",
        "def random_chromosome(size):\n",
        "    return [ randint(1, size) for _ in range(size) ]"
      ],
      "metadata": {
        "id": "p1-uyi0etGIT"
      },
      "execution_count": null,
      "outputs": []
    },
    {
      "cell_type": "code",
      "source": [
        "# Geração de valores aleatórios para teste\n",
        "# individual: Um cromossomo qualquer da população\n",
        "# Função objetivo: número de pares de rainhas não-atacantes\n",
        "# Exemplo: 8 rainhas\n",
        "# min = 0, max = 8 x 7/2 = 28\n",
        "\n",
        "def fitness(individual):\n",
        "    # max de rainhas não atacáveis\n",
        "    h = (len(individual)*7)/2\n",
        "    #Verificação de ataques\n",
        "    for i in range(0, len(individual)):\n",
        "        for j in range(0, len(individual)):\n",
        "            if j > i:\n",
        "               if abs(i - j) == abs(individual[i] - individual[j]): #valor abs de linha e coluna deve ser igual à posição da rainha\n",
        "                  h -= 1\n",
        "                  #ataques em coluna\n",
        "               if abs(individual[i] - individual[j]) == 0:\n",
        "                  h -= 1\n",
        "    return h"
      ],
      "metadata": {
        "id": "ioyfS9VFtJPD"
      },
      "execution_count": null,
      "outputs": []
    },
    {
      "cell_type": "code",
      "source": [
        "# Seleção por torneio\n",
        "# population: População atual\n",
        "# sizek: tamanho do torneio\n",
        "\n",
        "def selection(population, sizeK):\n",
        "  # seleciona um indivíduo aleatório\n",
        "\tselection_ix = randint(len(population))\n",
        "  # seleciona um conjunto aleatório de indivíduos\n",
        "\tfor ix in randint(0, len(population), sizeK-1):\n",
        "\t\t# compara com outros (realiza o torneio), se um dos indivíduos selecionados do conjunto for melhor que o pré selecionado\n",
        "\t\t# seu índice é armazenado em selection_ix\n",
        "\t\tif population[ix][1] > population[selection_ix][1]:\n",
        "\t\t\tselection_ix = ix\n",
        "\t# retorna o melhor indivíduo como pai para a proxima geração\n",
        "\treturn population[selection_ix][0]"
      ],
      "metadata": {
        "id": "r34UmLeEtUcT"
      },
      "execution_count": null,
      "outputs": []
    },
    {
      "cell_type": "code",
      "source": [
        "#Cruzamento de 1 ponto aleatório\n",
        "# p1 e p2: dois individuos da população\n",
        "# r_cross: Taxa de cruzamento\n",
        "\n",
        "def crossover(p1, p2, r_cross):\n",
        "\t# cópia dos pais\n",
        "\tc1, c2 = p1.copy(), p2.copy()\n",
        "\t# checagem de cruzamento\n",
        "\tif random() < r_cross:\n",
        "\t\t# seleção do ponto aleatório para o cruzamento (seleção da quebra)\n",
        "\t\tpt = randint(1, len(p1)-1)\n",
        "\t\t# cruzamento (concatena as partes separadas das soluções)\n",
        "\t\tc1 = p1[:pt] + p2[pt:]\n",
        "\t\tc2 = p2[:pt] + p1[pt:]\n",
        "\treturn [c1, c2]"
      ],
      "metadata": {
        "id": "gEXuASALtYpR"
      },
      "execution_count": null,
      "outputs": []
    },
    {
      "cell_type": "code",
      "source": [
        "# Mutação bit a bit\n",
        "# individual: Um cromossomo qualquer da população\n",
        "# r_mut: Taxa de mutação\n",
        "def mutation(individual, r_mut, nqueens):\n",
        "  for i in range(len(individual)):\n",
        "    # checagem de mutação\n",
        "    if random() < r_mut:\n",
        "      inicial = individual[i]\n",
        "      # garantia da mutação\n",
        "      while inicial == individual[i]:\n",
        "        # muta a posição para outra posição aleatória\n",
        "        individual[i] = randint(1, nqueens+1)"
      ],
      "metadata": {
        "id": "RrMO8YKB08Nt"
      },
      "execution_count": null,
      "outputs": []
    },
    {
      "cell_type": "code",
      "source": [
        "# Elitismo\n",
        "#pop: População atual\n",
        "#best_ind: Melhores individuos selecionados\n",
        "#          (tamanho definido por parâmetro)\n",
        "# ... Se for necessário mais parâmetros\n",
        "#def elitism(pop, best_ind,..):\n",
        "\n",
        "def elitism(pop, best_ind):\n",
        "  # chama função fitness para avaliação dos indivíduos\n",
        "  scores = [fitness(p) for p in pop]\n",
        "\t# cria população temporária com fit atualizado\n",
        "  newPop = []\n",
        "  for i in zip(pop,scores):\n",
        "      newPop.append(list(i))\n",
        "\n",
        "  # concatena população com o melhor indivíduo salvo anteriormente\n",
        "  newPop = newPop + best_ind\n",
        "  # ordena de melhor para pior\n",
        "  newPop.sort(key = lambda newPop: newPop[:][1], reverse = True)\n",
        "  # remove os piores indivíduos da população\n",
        "  newPop = newPop[:-(len(best_ind))]\n",
        "  # limpa a lista da população original\n",
        "  pop.clear()\n",
        "  # adiciona a população atualizada na lista da população original\n",
        "  for i in newPop:\n",
        "    pop.append(i[0])\n",
        "  return pop"
      ],
      "metadata": {
        "id": "p5XyPUaH1L4D"
      },
      "execution_count": null,
      "outputs": []
    },
    {
      "cell_type": "code",
      "source": [
        "# Salva os melhores indivíduos com base em elt\n",
        "def saveBestInd(pop,sizeInd):\n",
        "  # cria lista para armazenar os melhores individuos\n",
        "  copyBest = []\n",
        "  # ordena de melhor para pior com base no fitness (pop[:][1])\n",
        "  pop.sort(key = lambda pop: pop[:][1], reverse=True)\n",
        "  # copia os elt primeiros indivíduos para a lista\n",
        "  copyBest = pop[:sizeInd].copy()\n",
        "  return copyBest"
      ],
      "metadata": {
        "id": "DiR2I_z1v7PS"
      },
      "execution_count": null,
      "outputs": []
    },
    {
      "cell_type": "code",
      "source": [
        "# Recolhe a melhor solução\n",
        "def bestSolution(pop):\n",
        "  # ordena de melhor para pior com base no fitness (pop[:][1])\n",
        "    pop.sort(key = lambda pop: pop[:][1], reverse=True)\n",
        "    # retorna o primeiro indivíduo\n",
        "    return pop[0][0],pop[0][1]"
      ],
      "metadata": {
        "id": "mcHbczutv7yh"
      },
      "execution_count": null,
      "outputs": []
    },
    {
      "cell_type": "code",
      "source": [
        "# Poderá ser utlizado qualquer quantidade de parâmetros\n",
        "def genetic_algorithm(n_queens, n_iter, n_pop, r_cross, r_mut, k, sizeBestInd, optimalSol):\n",
        "\t# Pop: data structure used:\n",
        "\t##### index [0] -> numero de posições (1-8) (indivíduo)\n",
        "\t##### index [1] -> fitness\n",
        "\tpop = []\n",
        "\t# lista para elitismo\n",
        "\tbestInd = []\n",
        "  # população inicial de indivíduos com posições aleatórias\n",
        "\ttempPop = [randint(1, n_queens+1, n_queens).tolist() for _ in range(n_pop)]\n",
        "\t# enumeração das gerações\n",
        "\tfor gen in range(n_iter):\n",
        "\t\t\t# avalia o fit dos indivíduos\n",
        "\t\t\tfit = [fitness(chrom) for chrom in tempPop]\n",
        "\t\t\t# concatena com pop\n",
        "\t\t\tfor i in zip(tempPop, fit):\n",
        "\t\t\t\tpop.append(list(i))\n",
        "\t\t  # acompanhamento da melhor solução da geração\n",
        "\t\t\tind, best_eval = bestSolution(pop)\n",
        "\t\t\tprint(\"Geração: \",gen,\" Ind: \",ind,\" Fit: \",best_eval)\n",
        "\t\t\t# checa se a melhor solução possível foi encontrada\n",
        "\t\t\tif best_eval == optimalSol:\n",
        "\t\t\t\tprint(\">>>>>> Melhor solução geração: %d\" % gen)\n",
        "\t\t\t\tprint(\">>>>>> \",ind,\" - \",best_eval)\n",
        "\t\t\t\tbreak\n",
        "\t\t\t# aplica elitismo (salva os melhores elt indivíduos)\n",
        "\t\t\tbestInd = saveBestInd(pop, sizeBestInd)\n",
        "\t\t\t# executa o torneio entre os k\n",
        "\t\t\tselected = [selection(pop, k) for _ in range(tam_pop)]\n",
        "\t\t\t# cria a próxima geração (filhos)\n",
        "\t\t\tchildren = []\n",
        "\t\t\t# limpa a população atual\n",
        "\t\t\tpop.clear()\n",
        "\t\t\tfor i in range(0, n_pop, 2):\n",
        "\t\t\t\t# seleciona os pais de 2 em 2\n",
        "\t\t\t\tp1, p2 = selected[i], selected[i+1]\n",
        "\t\t\t\t# executa o cruzamento\n",
        "\t\t\t\tfor c in crossover(p1, p2, r_cross):\n",
        "\t\t\t\t\t# executa mutação\n",
        "\t\t\t\t\tmutation(c, r_mut, n_queens)\n",
        "\t\t\t\t\t# salva para a próxima geração\n",
        "\t\t\t\t\tchildren.append(c)\n",
        "\t\t\t# subistui a população pelos filhos\n",
        "\t\t\ttempPop = children\n",
        "\t\t\t# concatena a população atual com elitismo\n",
        "\t\t\ttempPop = elitism(tempPop, bestInd)\n",
        "\treturn tempPop"
      ],
      "metadata": {
        "id": "ZsVws20_tasB"
      },
      "execution_count": null,
      "outputs": []
    },
    {
      "cell_type": "code",
      "source": [
        "def print_population(pop):\n",
        "    for i in pop:\n",
        "      print(\"Cromossomo: \",i[0],\" - Fit: \",i[1])"
      ],
      "metadata": {
        "id": "RXNzemCutdEB"
      },
      "execution_count": null,
      "outputs": []
    },
    {
      "cell_type": "code",
      "source": [
        "pop = []\n",
        "\n",
        "#tamanho da população\n",
        "tam_pop = 50\n",
        "# numero de rainhas\n",
        "nqueens = 8\n",
        "# numero de iterações\n",
        "n_iter = 70\n",
        "# taxa de sucesso cruzamento\n",
        "r_cross = 0.9\n",
        "# taxa de sucesso mutação\n",
        "r_mut = 0.2\n",
        "# numero de indivíduos no torneio\n",
        "k = 16\n",
        "# melhor solução possível\n",
        "x = nqueens * 7/2\n",
        "# numero de indivíduos no elitismo\n",
        "elt = 5\n",
        "\n",
        "# executa busca por algoritmo genético\n",
        "pop = genetic_algorithm(nqueens, n_iter, tam_pop, r_cross, r_mut, k, elt,x)\n",
        "# avalia todos os candidatos da população\n",
        "scores = [fitness(p) for p in pop]\n",
        "# concatena pop com scores\n",
        "print(\"População Final:\")\n",
        "pop_with_fitness = [(pop[i], scores[i]) for i in range(len(pop))]\n",
        "print_population(pop_with_fitness)\n",
        "\n",
        "#print(\"População Final:\")\n",
        "#for i in zip(pop,scores):\n",
        "#    print(i)"
      ],
      "metadata": {
        "id": "bJVzm4c75e4Q",
        "colab": {
          "base_uri": "https://localhost:8080/"
        },
        "outputId": "0bc2b45b-8c73-45ea-d763-240fe3a9684a"
      },
      "execution_count": null,
      "outputs": [
        {
          "output_type": "stream",
          "name": "stdout",
          "text": [
            "Geração:  0  Ind:  [1, 8, 6, 2, 4, 1, 8, 5]  Fit:  25.0\n",
            "Geração:  1  Ind:  [4, 7, 5, 3, 6, 6, 4, 2]  Fit:  25.0\n",
            "Geração:  2  Ind:  [1, 8, 6, 2, 4, 2, 8, 5]  Fit:  25.0\n",
            "Geração:  3  Ind:  [1, 8, 6, 3, 7, 2, 8, 1]  Fit:  25.0\n",
            "Geração:  4  Ind:  [1, 8, 6, 2, 7, 2, 8, 5]  Fit:  26.0\n",
            "Geração:  5  Ind:  [1, 8, 6, 2, 7, 2, 8, 5]  Fit:  26.0\n",
            "Geração:  6  Ind:  [1, 1, 6, 2, 7, 2, 8, 5]  Fit:  26.0\n",
            "Geração:  7  Ind:  [3, 1, 6, 2, 7, 2, 8, 5]  Fit:  26.0\n",
            "Geração:  8  Ind:  [1, 1, 6, 2, 7, 2, 8, 5]  Fit:  26.0\n",
            "Geração:  9  Ind:  [1, 3, 6, 2, 7, 2, 8, 5]  Fit:  26.0\n",
            "Geração:  10  Ind:  [1, 1, 6, 2, 7, 2, 8, 5]  Fit:  26.0\n",
            "Geração:  11  Ind:  [1, 1, 6, 2, 7, 2, 8, 5]  Fit:  26.0\n",
            "Geração:  12  Ind:  [1, 8, 6, 2, 7, 2, 8, 3]  Fit:  26.0\n",
            "Geração:  13  Ind:  [1, 1, 6, 2, 7, 2, 8, 3]  Fit:  26.0\n",
            "Geração:  14  Ind:  [1, 1, 6, 2, 7, 2, 8, 3]  Fit:  26.0\n",
            "Geração:  15  Ind:  [1, 1, 6, 2, 7, 2, 8, 3]  Fit:  26.0\n",
            "Geração:  16  Ind:  [3, 1, 6, 2, 5, 2, 8, 3]  Fit:  26.0\n",
            "Geração:  17  Ind:  [1, 1, 6, 2, 7, 2, 8, 3]  Fit:  26.0\n",
            "Geração:  18  Ind:  [6, 1, 6, 2, 7, 2, 8, 3]  Fit:  26.0\n",
            "Geração:  19  Ind:  [6, 1, 6, 2, 7, 2, 8, 3]  Fit:  26.0\n",
            "Geração:  20  Ind:  [1, 1, 6, 2, 7, 2, 8, 3]  Fit:  26.0\n",
            "Geração:  21  Ind:  [1, 1, 6, 2, 7, 2, 8, 3]  Fit:  26.0\n",
            "Geração:  22  Ind:  [1, 1, 6, 2, 7, 2, 8, 3]  Fit:  26.0\n",
            "Geração:  23  Ind:  [1, 1, 6, 2, 7, 2, 8, 3]  Fit:  26.0\n",
            "Geração:  24  Ind:  [5, 1, 6, 1, 7, 2, 8, 3]  Fit:  27.0\n",
            "Geração:  25  Ind:  [5, 1, 6, 1, 7, 2, 8, 3]  Fit:  27.0\n",
            "Geração:  26  Ind:  [5, 1, 6, 4, 7, 4, 8, 3]  Fit:  27.0\n",
            "Geração:  27  Ind:  [5, 1, 6, 4, 7, 4, 8, 3]  Fit:  27.0\n",
            "Geração:  28  Ind:  [5, 1, 6, 4, 7, 4, 8, 3]  Fit:  27.0\n",
            "Geração:  29  Ind:  [5, 1, 6, 4, 7, 4, 8, 3]  Fit:  27.0\n",
            "Geração:  30  Ind:  [5, 2, 6, 3, 7, 4, 8, 5]  Fit:  27.0\n",
            "Geração:  31  Ind:  [5, 1, 6, 1, 7, 4, 8, 3]  Fit:  27.0\n",
            "Geração:  32  Ind:  [5, 1, 6, 1, 7, 4, 8, 3]  Fit:  27.0\n",
            "Geração:  33  Ind:  [5, 2, 6, 1, 7, 4, 8, 3]  Fit:  28.0\n",
            ">>>>>> Melhor solução geração: 33\n",
            ">>>>>>  [5, 2, 6, 1, 7, 4, 8, 3]  -  28.0\n",
            "População Final:\n",
            "Cromossomo:  [5, 2, 6, 1, 7, 4, 8, 3]  - Fit:  28.0\n",
            "Cromossomo:  [5, 1, 6, 1, 7, 4, 8, 3]  - Fit:  27.0\n",
            "Cromossomo:  [5, 1, 6, 1, 7, 4, 8, 3]  - Fit:  27.0\n",
            "Cromossomo:  [5, 1, 6, 1, 7, 4, 8, 3]  - Fit:  27.0\n",
            "Cromossomo:  [5, 2, 6, 3, 7, 4, 8, 5]  - Fit:  27.0\n",
            "Cromossomo:  [5, 1, 6, 1, 7, 4, 8, 3]  - Fit:  27.0\n",
            "Cromossomo:  [5, 1, 6, 1, 7, 4, 8, 3]  - Fit:  27.0\n",
            "Cromossomo:  [5, 1, 6, 4, 7, 4, 8, 3]  - Fit:  27.0\n",
            "Cromossomo:  [5, 2, 6, 3, 7, 4, 8, 5]  - Fit:  27.0\n",
            "Cromossomo:  [5, 1, 6, 1, 7, 4, 8, 3]  - Fit:  27.0\n",
            "Cromossomo:  [7, 1, 6, 1, 7, 4, 8, 3]  - Fit:  26.0\n",
            "Cromossomo:  [6, 1, 6, 1, 7, 4, 8, 3]  - Fit:  26.0\n",
            "Cromossomo:  [1, 1, 6, 8, 7, 4, 8, 3]  - Fit:  25.0\n",
            "Cromossomo:  [5, 2, 6, 3, 7, 4, 8, 7]  - Fit:  25.0\n",
            "Cromossomo:  [2, 1, 6, 4, 7, 4, 8, 3]  - Fit:  25.0\n",
            "Cromossomo:  [5, 6, 6, 3, 7, 4, 8, 3]  - Fit:  25.0\n",
            "Cromossomo:  [5, 2, 6, 1, 8, 4, 8, 7]  - Fit:  25.0\n",
            "Cromossomo:  [5, 1, 6, 2, 7, 4, 8, 8]  - Fit:  25.0\n",
            "Cromossomo:  [7, 1, 6, 1, 7, 4, 8, 2]  - Fit:  25.0\n",
            "Cromossomo:  [5, 1, 6, 1, 7, 4, 8, 5]  - Fit:  25.0\n",
            "Cromossomo:  [6, 2, 6, 3, 7, 4, 8, 3]  - Fit:  25.0\n",
            "Cromossomo:  [5, 2, 6, 3, 7, 8, 8, 5]  - Fit:  25.0\n",
            "Cromossomo:  [5, 1, 6, 4, 7, 4, 2, 3]  - Fit:  25.0\n",
            "Cromossomo:  [5, 1, 6, 4, 7, 4, 6, 3]  - Fit:  25.0\n",
            "Cromossomo:  [5, 1, 4, 1, 7, 4, 8, 3]  - Fit:  25.0\n",
            "Cromossomo:  [5, 1, 6, 2, 7, 4, 8, 5]  - Fit:  25.0\n",
            "Cromossomo:  [5, 1, 6, 1, 6, 4, 8, 3]  - Fit:  24.0\n",
            "Cromossomo:  [5, 1, 7, 4, 7, 1, 8, 3]  - Fit:  24.0\n",
            "Cromossomo:  [7, 2, 6, 4, 7, 4, 8, 3]  - Fit:  24.0\n",
            "Cromossomo:  [5, 1, 6, 4, 7, 1, 5, 3]  - Fit:  24.0\n",
            "Cromossomo:  [5, 1, 7, 1, 7, 4, 8, 3]  - Fit:  24.0\n",
            "Cromossomo:  [5, 2, 4, 3, 7, 4, 8, 5]  - Fit:  24.0\n",
            "Cromossomo:  [5, 1, 3, 1, 7, 4, 8, 8]  - Fit:  24.0\n",
            "Cromossomo:  [8, 7, 2, 1, 7, 4, 6, 3]  - Fit:  24.0\n",
            "Cromossomo:  [5, 1, 6, 1, 7, 5, 8, 3]  - Fit:  24.0\n",
            "Cromossomo:  [5, 1, 6, 8, 2, 4, 5, 3]  - Fit:  24.0\n",
            "Cromossomo:  [5, 1, 6, 8, 2, 4, 8, 2]  - Fit:  24.0\n",
            "Cromossomo:  [7, 1, 4, 1, 7, 4, 8, 3]  - Fit:  24.0\n",
            "Cromossomo:  [5, 1, 6, 7, 7, 2, 3, 3]  - Fit:  23.0\n",
            "Cromossomo:  [8, 1, 8, 1, 7, 4, 5, 3]  - Fit:  23.0\n",
            "Cromossomo:  [5, 2, 6, 3, 8, 4, 5, 4]  - Fit:  23.0\n",
            "Cromossomo:  [5, 4, 6, 4, 7, 3, 8, 3]  - Fit:  23.0\n",
            "Cromossomo:  [5, 8, 2, 1, 7, 4, 8, 5]  - Fit:  23.0\n",
            "Cromossomo:  [5, 7, 6, 1, 7, 4, 4, 3]  - Fit:  23.0\n",
            "Cromossomo:  [5, 1, 6, 8, 4, 4, 8, 3]  - Fit:  23.0\n",
            "Cromossomo:  [5, 1, 3, 3, 7, 4, 8, 3]  - Fit:  23.0\n",
            "Cromossomo:  [5, 4, 6, 4, 7, 4, 8, 3]  - Fit:  23.0\n",
            "Cromossomo:  [5, 1, 6, 6, 7, 4, 8, 6]  - Fit:  22.0\n",
            "Cromossomo:  [5, 2, 6, 3, 8, 6, 3, 3]  - Fit:  22.0\n",
            "Cromossomo:  [5, 2, 7, 7, 7, 4, 8, 6]  - Fit:  22.0\n"
          ]
        }
      ]
    },
    {
      "cell_type": "code",
      "source": [],
      "metadata": {
        "id": "cF5Tkkpv5e2k"
      },
      "execution_count": null,
      "outputs": []
    }
  ]
}